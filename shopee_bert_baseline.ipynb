{
  "nbformat": 4,
  "nbformat_minor": 0,
  "metadata": {
    "accelerator": "GPU",
    "colab": {
      "name": "shopee-bert-baseline_v2.ipynb",
      "provenance": [],
      "collapsed_sections": [],
      "machine_shape": "hm"
    },
    "kernelspec": {
      "display_name": "Python 3",
      "language": "python",
      "name": "python3"
    },
    "language_info": {
      "codemirror_mode": {
        "name": "ipython",
        "version": 3
      },
      "file_extension": ".py",
      "mimetype": "text/x-python",
      "name": "python",
      "nbconvert_exporter": "python",
      "pygments_lexer": "ipython3",
      "version": "3.6.4"
    }
  },
  "cells": [
    {
      "cell_type": "code",
      "metadata": {
        "colab": {
          "base_uri": "https://localhost:8080/"
        },
        "id": "jL5V0GMgChKT",
        "outputId": "e288e648-aa73-4f8e-a8ee-bc251fb6b08b"
      },
      "source": [
        "from google.colab import drive\n",
        "drive.mount(\"/content/drive\", force_remount=True)\n",
        "!ls"
      ],
      "execution_count": null,
      "outputs": [
        {
          "output_type": "stream",
          "text": [
            "Mounted at /content/drive\n",
            "drive  sample_data\n"
          ],
          "name": "stdout"
        }
      ]
    },
    {
      "cell_type": "code",
      "metadata": {
        "colab": {
          "base_uri": "https://localhost:8080/"
        },
        "id": "3dtxGnDIbmEZ",
        "outputId": "b0532021-4be9-4335-f6af-ba78e529f15e"
      },
      "source": [
        "# A dependency of the preprocessing for BERT inputs\n",
        "!pip install -q -U tensorflow-text"
      ],
      "execution_count": null,
      "outputs": [
        {
          "output_type": "stream",
          "text": [
            "\u001b[K     |████████████████████████████████| 4.3MB 13.8MB/s \n",
            "\u001b[?25h"
          ],
          "name": "stdout"
        }
      ]
    },
    {
      "cell_type": "code",
      "metadata": {
        "colab": {
          "base_uri": "https://localhost:8080/"
        },
        "id": "cH-6IIwNbtFk",
        "outputId": "d70ad8e4-6886-4a6a-a490-b1e21c70d709"
      },
      "source": [
        "!pip install -q tf-models-official"
      ],
      "execution_count": null,
      "outputs": [
        {
          "output_type": "stream",
          "text": [
            "\u001b[K     |████████████████████████████████| 1.6MB 13.9MB/s \n",
            "\u001b[K     |████████████████████████████████| 37.2MB 127kB/s \n",
            "\u001b[K     |████████████████████████████████| 686kB 43.2MB/s \n",
            "\u001b[K     |████████████████████████████████| 215kB 44.1MB/s \n",
            "\u001b[K     |████████████████████████████████| 358kB 47.3MB/s \n",
            "\u001b[K     |████████████████████████████████| 1.2MB 43.3MB/s \n",
            "\u001b[K     |████████████████████████████████| 51kB 6.2MB/s \n",
            "\u001b[K     |████████████████████████████████| 102kB 9.7MB/s \n",
            "\u001b[K     |████████████████████████████████| 645kB 33.8MB/s \n",
            "\u001b[K     |████████████████████████████████| 61kB 6.7MB/s \n",
            "\u001b[?25h  Building wheel for seqeval (setup.py) ... \u001b[?25l\u001b[?25hdone\n",
            "  Building wheel for py-cpuinfo (setup.py) ... \u001b[?25l\u001b[?25hdone\n"
          ],
          "name": "stdout"
        }
      ]
    },
    {
      "cell_type": "code",
      "metadata": {
        "id": "cX0Zbnz7bfO0"
      },
      "source": [
        "import os\n",
        "import shutil\n",
        "import random\n",
        "from tqdm import tqdm\n",
        "import gc\n",
        "\n",
        "import pandas as pd\n",
        "import numpy as np\n",
        "import tensorflow as tf\n",
        "import tensorflow_hub as hub\n",
        "import tensorflow_text as text\n",
        "from official.nlp import optimization  # to create AdamW optimizer\n",
        "\n",
        "import matplotlib.pyplot as plt\n",
        "from sklearn.model_selection import train_test_split\n",
        "from sklearn.preprocessing import LabelEncoder\n",
        "from sklearn.neighbors import NearestNeighbors\n",
        "\n",
        "tf.get_logger().setLevel('ERROR')\n",
        "AUTOTUNE = tf.data.experimental.AUTOTUNE"
      ],
      "execution_count": 31,
      "outputs": []
    },
    {
      "cell_type": "code",
      "metadata": {
        "id": "MEf4VQ6epFj7"
      },
      "source": [
        "# Function to seed everything\n",
        "def seed_everything(seed):\n",
        "    random.seed(seed)\n",
        "    np.random.seed(seed)\n",
        "    os.environ['PYTHONHASHSEED'] = str(seed)\n",
        "    tf.random.set_seed(seed)"
      ],
      "execution_count": null,
      "outputs": []
    },
    {
      "cell_type": "code",
      "metadata": {
        "id": "Lwpo15JtpHkI"
      },
      "source": [
        "SEED = 2021\n",
        "seed_everything(SEED)"
      ],
      "execution_count": null,
      "outputs": []
    },
    {
      "cell_type": "code",
      "metadata": {
        "colab": {
          "base_uri": "https://localhost:8080/"
        },
        "id": "nQAtT9SUtw2w",
        "outputId": "d836458d-9003-484a-f487-a208daf36232"
      },
      "source": [
        "def read_and_preprocess():\n",
        "    df = pd.read_csv('/content/drive/MyDrive/shopee/shopee-product-matching/train.csv')\n",
        "    tmp = df.groupby(['label_group'])['posting_id'].unique().to_dict()\n",
        "    df['matches'] = df['label_group'].map(tmp)\n",
        "    df['matches'] = df['matches'].apply(lambda x: ' '.join(x))\n",
        "    encoder = LabelEncoder()\n",
        "    df['label_group'] = encoder.fit_transform(df['label_group'])\n",
        "    N_CLASSES = df['label_group'].nunique()\n",
        "    print(f'We have {N_CLASSES} classes')\n",
        "    x_train, x_val, y_train, y_val = train_test_split(df[['title','posting_id']], df['label_group'], shuffle = True, stratify = df['label_group'], random_state = SEED, test_size = 0.33)\n",
        "    return df, N_CLASSES, x_train, x_val, y_train, y_val\n",
        "df, N_CLASSES, x_train, x_val, y_train, y_val = read_and_preprocess()"
      ],
      "execution_count": null,
      "outputs": [
        {
          "output_type": "stream",
          "text": [
            "We have 11014 classes\n"
          ],
          "name": "stdout"
        }
      ]
    },
    {
      "cell_type": "code",
      "metadata": {
        "id": "xjaZyelNuD6d"
      },
      "source": [
        "train_dataset = tf.data.Dataset.from_tensor_slices((x_train['title'].values, y_train.values))\n",
        "train_dataset = train_dataset.batch(32)\n",
        "train_dataset = train_dataset.shuffle(1000)\n",
        "train_dataset = train_dataset.prefetch(AUTOTUNE)"
      ],
      "execution_count": null,
      "outputs": []
    },
    {
      "cell_type": "code",
      "metadata": {
        "id": "3bFqliCDsJyK"
      },
      "source": [
        "val_dataset = tf.data.Dataset.from_tensor_slices((x_val['title'].values, y_val.values))\n",
        "val_dataset = val_dataset.batch(32)\n",
        "val_dataset = val_dataset.prefetch(AUTOTUNE)"
      ],
      "execution_count": null,
      "outputs": []
    },
    {
      "cell_type": "code",
      "metadata": {
        "id": "a3aH7xv2upk6"
      },
      "source": [
        "for text_batch, label_batch in train_dataset.take(1):\n",
        "  print(text_batch, label_batch)"
      ],
      "execution_count": null,
      "outputs": []
    },
    {
      "cell_type": "code",
      "metadata": {
        "colab": {
          "base_uri": "https://localhost:8080/"
        },
        "id": "BfmbwPk5gzxn",
        "outputId": "4be30c97-eacc-4cd2-8072-af0791cedf18"
      },
      "source": [
        "bert_model_name = 'small_bert/bert_en_uncased_L-4_H-512_A-8' \n",
        "\n",
        "map_name_to_handle = {\n",
        "    'bert_en_uncased_L-12_H-768_A-12':\n",
        "        'https://tfhub.dev/tensorflow/bert_en_uncased_L-12_H-768_A-12/3',\n",
        "    'bert_en_cased_L-12_H-768_A-12':\n",
        "        'https://tfhub.dev/tensorflow/bert_en_cased_L-12_H-768_A-12/3',\n",
        "    'bert_multi_cased_L-12_H-768_A-12':\n",
        "        'https://tfhub.dev/tensorflow/bert_multi_cased_L-12_H-768_A-12/3',\n",
        "    'small_bert/bert_en_uncased_L-2_H-128_A-2':\n",
        "        'https://tfhub.dev/tensorflow/small_bert/bert_en_uncased_L-2_H-128_A-2/1',\n",
        "    'small_bert/bert_en_uncased_L-2_H-256_A-4':\n",
        "        'https://tfhub.dev/tensorflow/small_bert/bert_en_uncased_L-2_H-256_A-4/1',\n",
        "    'small_bert/bert_en_uncased_L-2_H-512_A-8':\n",
        "        'https://tfhub.dev/tensorflow/small_bert/bert_en_uncased_L-2_H-512_A-8/1',\n",
        "    'small_bert/bert_en_uncased_L-2_H-768_A-12':\n",
        "        'https://tfhub.dev/tensorflow/small_bert/bert_en_uncased_L-2_H-768_A-12/1',\n",
        "    'small_bert/bert_en_uncased_L-4_H-128_A-2':\n",
        "        'https://tfhub.dev/tensorflow/small_bert/bert_en_uncased_L-4_H-128_A-2/1',\n",
        "    'small_bert/bert_en_uncased_L-4_H-256_A-4':\n",
        "        'https://tfhub.dev/tensorflow/small_bert/bert_en_uncased_L-4_H-256_A-4/1',\n",
        "    'small_bert/bert_en_uncased_L-4_H-512_A-8':\n",
        "        'https://tfhub.dev/tensorflow/small_bert/bert_en_uncased_L-4_H-512_A-8/1',\n",
        "    'small_bert/bert_en_uncased_L-4_H-768_A-12':\n",
        "        'https://tfhub.dev/tensorflow/small_bert/bert_en_uncased_L-4_H-768_A-12/1',\n",
        "    'small_bert/bert_en_uncased_L-6_H-128_A-2':\n",
        "        'https://tfhub.dev/tensorflow/small_bert/bert_en_uncased_L-6_H-128_A-2/1',\n",
        "    'small_bert/bert_en_uncased_L-6_H-256_A-4':\n",
        "        'https://tfhub.dev/tensorflow/small_bert/bert_en_uncased_L-6_H-256_A-4/1',\n",
        "    'small_bert/bert_en_uncased_L-6_H-512_A-8':\n",
        "        'https://tfhub.dev/tensorflow/small_bert/bert_en_uncased_L-6_H-512_A-8/1',\n",
        "    'small_bert/bert_en_uncased_L-6_H-768_A-12':\n",
        "        'https://tfhub.dev/tensorflow/small_bert/bert_en_uncased_L-6_H-768_A-12/1',\n",
        "    'small_bert/bert_en_uncased_L-8_H-128_A-2':\n",
        "        'https://tfhub.dev/tensorflow/small_bert/bert_en_uncased_L-8_H-128_A-2/1',\n",
        "    'small_bert/bert_en_uncased_L-8_H-256_A-4':\n",
        "        'https://tfhub.dev/tensorflow/small_bert/bert_en_uncased_L-8_H-256_A-4/1',\n",
        "    'small_bert/bert_en_uncased_L-8_H-512_A-8':\n",
        "        'https://tfhub.dev/tensorflow/small_bert/bert_en_uncased_L-8_H-512_A-8/1',\n",
        "    'small_bert/bert_en_uncased_L-8_H-768_A-12':\n",
        "        'https://tfhub.dev/tensorflow/small_bert/bert_en_uncased_L-8_H-768_A-12/1',\n",
        "    'small_bert/bert_en_uncased_L-10_H-128_A-2':\n",
        "        'https://tfhub.dev/tensorflow/small_bert/bert_en_uncased_L-10_H-128_A-2/1',\n",
        "    'small_bert/bert_en_uncased_L-10_H-256_A-4':\n",
        "        'https://tfhub.dev/tensorflow/small_bert/bert_en_uncased_L-10_H-256_A-4/1',\n",
        "    'small_bert/bert_en_uncased_L-10_H-512_A-8':\n",
        "        'https://tfhub.dev/tensorflow/small_bert/bert_en_uncased_L-10_H-512_A-8/1',\n",
        "    'small_bert/bert_en_uncased_L-10_H-768_A-12':\n",
        "        'https://tfhub.dev/tensorflow/small_bert/bert_en_uncased_L-10_H-768_A-12/1',\n",
        "    'small_bert/bert_en_uncased_L-12_H-128_A-2':\n",
        "        'https://tfhub.dev/tensorflow/small_bert/bert_en_uncased_L-12_H-128_A-2/1',\n",
        "    'small_bert/bert_en_uncased_L-12_H-256_A-4':\n",
        "        'https://tfhub.dev/tensorflow/small_bert/bert_en_uncased_L-12_H-256_A-4/1',\n",
        "    'small_bert/bert_en_uncased_L-12_H-512_A-8':\n",
        "        'https://tfhub.dev/tensorflow/small_bert/bert_en_uncased_L-12_H-512_A-8/1',\n",
        "    'small_bert/bert_en_uncased_L-12_H-768_A-12':\n",
        "        'https://tfhub.dev/tensorflow/small_bert/bert_en_uncased_L-12_H-768_A-12/1',\n",
        "    'albert_en_base':\n",
        "        'https://tfhub.dev/tensorflow/albert_en_base/2',\n",
        "    'electra_small':\n",
        "        'https://tfhub.dev/google/electra_small/2',\n",
        "    'electra_base':\n",
        "        'https://tfhub.dev/google/electra_base/2',\n",
        "    'experts_pubmed':\n",
        "        'https://tfhub.dev/google/experts/bert/pubmed/2',\n",
        "    'experts_wiki_books':\n",
        "        'https://tfhub.dev/google/experts/bert/wiki_books/2',\n",
        "    'talking-heads_base':\n",
        "        'https://tfhub.dev/tensorflow/talkheads_ggelu_bert_en_base/1',\n",
        "}\n",
        "\n",
        "map_model_to_preprocess = {\n",
        "    'bert_en_uncased_L-12_H-768_A-12':\n",
        "        'https://tfhub.dev/tensorflow/bert_en_uncased_preprocess/3',\n",
        "    'bert_en_cased_L-12_H-768_A-12':\n",
        "        'https://tfhub.dev/tensorflow/bert_en_cased_preprocess/3',\n",
        "    'small_bert/bert_en_uncased_L-2_H-128_A-2':\n",
        "        'https://tfhub.dev/tensorflow/bert_en_uncased_preprocess/3',\n",
        "    'small_bert/bert_en_uncased_L-2_H-256_A-4':\n",
        "        'https://tfhub.dev/tensorflow/bert_en_uncased_preprocess/3',\n",
        "    'small_bert/bert_en_uncased_L-2_H-512_A-8':\n",
        "        'https://tfhub.dev/tensorflow/bert_en_uncased_preprocess/3',\n",
        "    'small_bert/bert_en_uncased_L-2_H-768_A-12':\n",
        "        'https://tfhub.dev/tensorflow/bert_en_uncased_preprocess/3',\n",
        "    'small_bert/bert_en_uncased_L-4_H-128_A-2':\n",
        "        'https://tfhub.dev/tensorflow/bert_en_uncased_preprocess/3',\n",
        "    'small_bert/bert_en_uncased_L-4_H-256_A-4':\n",
        "        'https://tfhub.dev/tensorflow/bert_en_uncased_preprocess/3',\n",
        "    'small_bert/bert_en_uncased_L-4_H-512_A-8':\n",
        "        'https://tfhub.dev/tensorflow/bert_en_uncased_preprocess/3',\n",
        "    'small_bert/bert_en_uncased_L-4_H-768_A-12':\n",
        "        'https://tfhub.dev/tensorflow/bert_en_uncased_preprocess/3',\n",
        "    'small_bert/bert_en_uncased_L-6_H-128_A-2':\n",
        "        'https://tfhub.dev/tensorflow/bert_en_uncased_preprocess/3',\n",
        "    'small_bert/bert_en_uncased_L-6_H-256_A-4':\n",
        "        'https://tfhub.dev/tensorflow/bert_en_uncased_preprocess/3',\n",
        "    'small_bert/bert_en_uncased_L-6_H-512_A-8':\n",
        "        'https://tfhub.dev/tensorflow/bert_en_uncased_preprocess/3',\n",
        "    'small_bert/bert_en_uncased_L-6_H-768_A-12':\n",
        "        'https://tfhub.dev/tensorflow/bert_en_uncased_preprocess/3',\n",
        "    'small_bert/bert_en_uncased_L-8_H-128_A-2':\n",
        "        'https://tfhub.dev/tensorflow/bert_en_uncased_preprocess/3',\n",
        "    'small_bert/bert_en_uncased_L-8_H-256_A-4':\n",
        "        'https://tfhub.dev/tensorflow/bert_en_uncased_preprocess/3',\n",
        "    'small_bert/bert_en_uncased_L-8_H-512_A-8':\n",
        "        'https://tfhub.dev/tensorflow/bert_en_uncased_preprocess/3',\n",
        "    'small_bert/bert_en_uncased_L-8_H-768_A-12':\n",
        "        'https://tfhub.dev/tensorflow/bert_en_uncased_preprocess/3',\n",
        "    'small_bert/bert_en_uncased_L-10_H-128_A-2':\n",
        "        'https://tfhub.dev/tensorflow/bert_en_uncased_preprocess/3',\n",
        "    'small_bert/bert_en_uncased_L-10_H-256_A-4':\n",
        "        'https://tfhub.dev/tensorflow/bert_en_uncased_preprocess/3',\n",
        "    'small_bert/bert_en_uncased_L-10_H-512_A-8':\n",
        "        'https://tfhub.dev/tensorflow/bert_en_uncased_preprocess/3',\n",
        "    'small_bert/bert_en_uncased_L-10_H-768_A-12':\n",
        "        'https://tfhub.dev/tensorflow/bert_en_uncased_preprocess/3',\n",
        "    'small_bert/bert_en_uncased_L-12_H-128_A-2':\n",
        "        'https://tfhub.dev/tensorflow/bert_en_uncased_preprocess/3',\n",
        "    'small_bert/bert_en_uncased_L-12_H-256_A-4':\n",
        "        'https://tfhub.dev/tensorflow/bert_en_uncased_preprocess/3',\n",
        "    'small_bert/bert_en_uncased_L-12_H-512_A-8':\n",
        "        'https://tfhub.dev/tensorflow/bert_en_uncased_preprocess/3',\n",
        "    'small_bert/bert_en_uncased_L-12_H-768_A-12':\n",
        "        'https://tfhub.dev/tensorflow/bert_en_uncased_preprocess/3',\n",
        "    'bert_multi_cased_L-12_H-768_A-12':\n",
        "        'https://tfhub.dev/tensorflow/bert_multi_cased_preprocess/3',\n",
        "    'albert_en_base':\n",
        "        'https://tfhub.dev/tensorflow/albert_en_preprocess/3',\n",
        "    'electra_small':\n",
        "        'https://tfhub.dev/tensorflow/bert_en_uncased_preprocess/3',\n",
        "    'electra_base':\n",
        "        'https://tfhub.dev/tensorflow/bert_en_uncased_preprocess/3',\n",
        "    'experts_pubmed':\n",
        "        'https://tfhub.dev/tensorflow/bert_en_uncased_preprocess/3',\n",
        "    'experts_wiki_books':\n",
        "        'https://tfhub.dev/tensorflow/bert_en_uncased_preprocess/3',\n",
        "    'talking-heads_base':\n",
        "        'https://tfhub.dev/tensorflow/bert_en_uncased_preprocess/3',\n",
        "}\n",
        "\n",
        "tfhub_handle_encoder = map_name_to_handle[bert_model_name]\n",
        "tfhub_handle_preprocess = map_model_to_preprocess[bert_model_name]\n",
        "\n",
        "print(f'BERT model selected           : {tfhub_handle_encoder}')\n",
        "print(f'Preprocess model auto-selected: {tfhub_handle_preprocess}')"
      ],
      "execution_count": null,
      "outputs": [
        {
          "output_type": "stream",
          "text": [
            "BERT model selected           : https://tfhub.dev/tensorflow/small_bert/bert_en_uncased_L-4_H-512_A-8/1\n",
            "Preprocess model auto-selected: https://tfhub.dev/tensorflow/bert_en_uncased_preprocess/3\n"
          ],
          "name": "stdout"
        }
      ]
    },
    {
      "cell_type": "code",
      "metadata": {
        "id": "k1jNc4Vfk8R4"
      },
      "source": [
        "def build_classifier_model():\n",
        "  text_input = tf.keras.layers.Input(shape=(), dtype=tf.string, name='text')\n",
        "  preprocessing_layer = hub.KerasLayer(tfhub_handle_preprocess, name='preprocessing')\n",
        "  encoder_inputs = preprocessing_layer(text_input)\n",
        "  encoder = hub.KerasLayer(tfhub_handle_encoder, trainable=True, name='BERT_encoder')\n",
        "  outputs = encoder(encoder_inputs)\n",
        "  net = outputs['pooled_output']\n",
        "  net = tf.keras.layers.Dropout(0.1)(net)\n",
        "  net = tf.keras.layers.Dense(N_CLASSES, activation=None, name='classifier')(net)\n",
        "  return tf.keras.Model(text_input, net)"
      ],
      "execution_count": null,
      "outputs": []
    },
    {
      "cell_type": "code",
      "metadata": {
        "colab": {
          "base_uri": "https://localhost:8080/"
        },
        "id": "UsgJb9dwlEEk",
        "outputId": "75537985-96f5-47a2-9e09-97c925d04281"
      },
      "source": [
        "text_test = ['this is such an amazing movie!']\n",
        "classifier_model = build_classifier_model()\n",
        "bert_raw_result = classifier_model(tf.constant(text_test))\n",
        "print(tf.sigmoid(bert_raw_result))\n",
        "classifier_model.summary()"
      ],
      "execution_count": null,
      "outputs": [
        {
          "output_type": "stream",
          "text": [
            "tf.Tensor([[0.49582693 0.5068373  0.631283   ... 0.5430101  0.45434874 0.47789338]], shape=(1, 11014), dtype=float32)\n"
          ],
          "name": "stdout"
        }
      ]
    },
    {
      "cell_type": "code",
      "metadata": {
        "id": "XUwD8zAElOFY"
      },
      "source": [
        "loss = tf.keras.losses.SparseCategoricalCrossentropy(from_logits=True)\n",
        "metrics = tf.metrics.SparseCategoricalAccuracy()"
      ],
      "execution_count": null,
      "outputs": []
    },
    {
      "cell_type": "code",
      "metadata": {
        "id": "MyDGsRl6lWvD"
      },
      "source": [
        "epochs = 60\n",
        "steps_per_epoch = tf.data.experimental.cardinality(train_dataset).numpy()\n",
        "num_train_steps = steps_per_epoch * epochs\n",
        "num_warmup_steps = int(0.1*num_train_steps)\n",
        "\n",
        "init_lr = 3e-5\n",
        "optimizer = optimization.create_optimizer(init_lr=init_lr,\n",
        "                      num_train_steps=num_train_steps,\n",
        "                      num_warmup_steps=num_warmup_steps,\n",
        "                      optimizer_type='adamw')"
      ],
      "execution_count": null,
      "outputs": []
    },
    {
      "cell_type": "code",
      "metadata": {
        "id": "5VgsTA4Tlapi"
      },
      "source": [
        "classifier_model.compile(optimizer = optimizer, loss = loss, metrics = metrics)"
      ],
      "execution_count": null,
      "outputs": []
    },
    {
      "cell_type": "code",
      "metadata": {
        "colab": {
          "base_uri": "https://localhost:8080/"
        },
        "id": "My8kSMFvlc8w",
        "outputId": "4d3b8929-7829-4c82-80cd-8c54bd55c5d2"
      },
      "source": [
        "print(f'Training model with {tfhub_handle_encoder}')\n",
        "history = classifier_model.fit(x = train_dataset, \n",
        "                validation_data = val_dataset, \n",
        "                epochs = epochs)"
      ],
      "execution_count": null,
      "outputs": [
        {
          "output_type": "stream",
          "text": [
            "Training model with https://tfhub.dev/tensorflow/small_bert/bert_en_uncased_L-4_H-512_A-8/1\n",
            "Epoch 1/60\n",
            "718/718 [==============================] - 150s 203ms/step - loss: 9.3260 - sparse_categorical_accuracy: 8.7157e-05 - val_loss: 9.2981 - val_sparse_categorical_accuracy: 1.7694e-04\n",
            "Epoch 2/60\n",
            "718/718 [==============================] - 145s 202ms/step - loss: 9.2655 - sparse_categorical_accuracy: 6.5368e-04 - val_loss: 9.2532 - val_sparse_categorical_accuracy: 0.0036\n",
            "Epoch 3/60\n",
            "718/718 [==============================] - 144s 201ms/step - loss: 9.1719 - sparse_categorical_accuracy: 0.0071 - val_loss: 9.1653 - val_sparse_categorical_accuracy: 0.0170\n",
            "Epoch 4/60\n",
            "718/718 [==============================] - 144s 201ms/step - loss: 9.0272 - sparse_categorical_accuracy: 0.0176 - val_loss: 9.0228 - val_sparse_categorical_accuracy: 0.0215\n",
            "Epoch 5/60\n",
            "718/718 [==============================] - 144s 201ms/step - loss: 8.8258 - sparse_categorical_accuracy: 0.0221 - val_loss: 8.8191 - val_sparse_categorical_accuracy: 0.0249\n",
            "Epoch 6/60\n",
            "718/718 [==============================] - 144s 201ms/step - loss: 8.5655 - sparse_categorical_accuracy: 0.0263 - val_loss: 8.5779 - val_sparse_categorical_accuracy: 0.0288\n",
            "Epoch 7/60\n",
            "718/718 [==============================] - 144s 201ms/step - loss: 8.2722 - sparse_categorical_accuracy: 0.0312 - val_loss: 8.3480 - val_sparse_categorical_accuracy: 0.0352\n",
            "Epoch 8/60\n",
            "718/718 [==============================] - 144s 201ms/step - loss: 7.9950 - sparse_categorical_accuracy: 0.0380 - val_loss: 8.1258 - val_sparse_categorical_accuracy: 0.0418\n",
            "Epoch 9/60\n",
            "718/718 [==============================] - 144s 200ms/step - loss: 7.7301 - sparse_categorical_accuracy: 0.0464 - val_loss: 7.9347 - val_sparse_categorical_accuracy: 0.0481\n",
            "Epoch 10/60\n",
            "718/718 [==============================] - 144s 200ms/step - loss: 7.4752 - sparse_categorical_accuracy: 0.0600 - val_loss: 7.7277 - val_sparse_categorical_accuracy: 0.0631\n",
            "Epoch 11/60\n",
            "718/718 [==============================] - 144s 200ms/step - loss: 7.2335 - sparse_categorical_accuracy: 0.0768 - val_loss: 7.5603 - val_sparse_categorical_accuracy: 0.0749\n",
            "Epoch 12/60\n",
            "718/718 [==============================] - 144s 200ms/step - loss: 7.0022 - sparse_categorical_accuracy: 0.0948 - val_loss: 7.3802 - val_sparse_categorical_accuracy: 0.0942\n",
            "Epoch 13/60\n",
            "718/718 [==============================] - 143s 199ms/step - loss: 6.7758 - sparse_categorical_accuracy: 0.1174 - val_loss: 7.2124 - val_sparse_categorical_accuracy: 0.1134\n",
            "Epoch 14/60\n",
            "718/718 [==============================] - 143s 199ms/step - loss: 6.5567 - sparse_categorical_accuracy: 0.1395 - val_loss: 7.0548 - val_sparse_categorical_accuracy: 0.1296\n",
            "Epoch 15/60\n",
            "718/718 [==============================] - 143s 199ms/step - loss: 6.3517 - sparse_categorical_accuracy: 0.1626 - val_loss: 6.9166 - val_sparse_categorical_accuracy: 0.1362\n",
            "Epoch 16/60\n",
            "718/718 [==============================] - 142s 198ms/step - loss: 6.1502 - sparse_categorical_accuracy: 0.1844 - val_loss: 6.7776 - val_sparse_categorical_accuracy: 0.1542\n",
            "Epoch 17/60\n",
            "718/718 [==============================] - 142s 198ms/step - loss: 5.9578 - sparse_categorical_accuracy: 0.2103 - val_loss: 6.6376 - val_sparse_categorical_accuracy: 0.1691\n",
            "Epoch 18/60\n",
            "718/718 [==============================] - 143s 199ms/step - loss: 5.7738 - sparse_categorical_accuracy: 0.2343 - val_loss: 6.5160 - val_sparse_categorical_accuracy: 0.1797\n",
            "Epoch 19/60\n",
            "718/718 [==============================] - 142s 198ms/step - loss: 5.5948 - sparse_categorical_accuracy: 0.2606 - val_loss: 6.3860 - val_sparse_categorical_accuracy: 0.1960\n",
            "Epoch 20/60\n",
            "718/718 [==============================] - 142s 198ms/step - loss: 5.4236 - sparse_categorical_accuracy: 0.2879 - val_loss: 6.2748 - val_sparse_categorical_accuracy: 0.2090\n",
            "Epoch 21/60\n",
            "718/718 [==============================] - 142s 198ms/step - loss: 5.2577 - sparse_categorical_accuracy: 0.3108 - val_loss: 6.1609 - val_sparse_categorical_accuracy: 0.2231\n",
            "Epoch 22/60\n",
            "718/718 [==============================] - 142s 198ms/step - loss: 5.1020 - sparse_categorical_accuracy: 0.3356 - val_loss: 6.0553 - val_sparse_categorical_accuracy: 0.2323\n",
            "Epoch 23/60\n",
            "718/718 [==============================] - 142s 198ms/step - loss: 4.9506 - sparse_categorical_accuracy: 0.3648 - val_loss: 5.9598 - val_sparse_categorical_accuracy: 0.2391\n",
            "Epoch 24/60\n",
            "718/718 [==============================] - 143s 199ms/step - loss: 4.8062 - sparse_categorical_accuracy: 0.3880 - val_loss: 5.8644 - val_sparse_categorical_accuracy: 0.2545\n",
            "Epoch 25/60\n",
            "718/718 [==============================] - 142s 198ms/step - loss: 4.6653 - sparse_categorical_accuracy: 0.4096 - val_loss: 5.7793 - val_sparse_categorical_accuracy: 0.2591\n",
            "Epoch 26/60\n",
            "718/718 [==============================] - 143s 200ms/step - loss: 4.5345 - sparse_categorical_accuracy: 0.4319 - val_loss: 5.6861 - val_sparse_categorical_accuracy: 0.2704\n",
            "Epoch 27/60\n",
            "718/718 [==============================] - 144s 201ms/step - loss: 4.4090 - sparse_categorical_accuracy: 0.4535 - val_loss: 5.6007 - val_sparse_categorical_accuracy: 0.2806\n",
            "Epoch 28/60\n",
            "718/718 [==============================] - 144s 200ms/step - loss: 4.2854 - sparse_categorical_accuracy: 0.4716 - val_loss: 5.5222 - val_sparse_categorical_accuracy: 0.2866\n",
            "Epoch 29/60\n",
            "718/718 [==============================] - 144s 201ms/step - loss: 4.1672 - sparse_categorical_accuracy: 0.4929 - val_loss: 5.4455 - val_sparse_categorical_accuracy: 0.2951\n",
            "Epoch 30/60\n",
            "718/718 [==============================] - 144s 201ms/step - loss: 4.0588 - sparse_categorical_accuracy: 0.5089 - val_loss: 5.3757 - val_sparse_categorical_accuracy: 0.3031\n",
            "Epoch 31/60\n",
            "718/718 [==============================] - 144s 201ms/step - loss: 3.9537 - sparse_categorical_accuracy: 0.5243 - val_loss: 5.3094 - val_sparse_categorical_accuracy: 0.3063\n",
            "Epoch 32/60\n",
            "718/718 [==============================] - 144s 201ms/step - loss: 3.8565 - sparse_categorical_accuracy: 0.5394 - val_loss: 5.2428 - val_sparse_categorical_accuracy: 0.3136\n",
            "Epoch 33/60\n",
            "718/718 [==============================] - 144s 201ms/step - loss: 3.7610 - sparse_categorical_accuracy: 0.5537 - val_loss: 5.1873 - val_sparse_categorical_accuracy: 0.3195\n",
            "Epoch 34/60\n",
            "718/718 [==============================] - 144s 201ms/step - loss: 3.6682 - sparse_categorical_accuracy: 0.5694 - val_loss: 5.1287 - val_sparse_categorical_accuracy: 0.3269\n",
            "Epoch 35/60\n",
            "718/718 [==============================] - 144s 201ms/step - loss: 3.5817 - sparse_categorical_accuracy: 0.5818 - val_loss: 5.0753 - val_sparse_categorical_accuracy: 0.3324\n",
            "Epoch 36/60\n",
            "718/718 [==============================] - 144s 201ms/step - loss: 3.5003 - sparse_categorical_accuracy: 0.5944 - val_loss: 5.0269 - val_sparse_categorical_accuracy: 0.3368\n",
            "Epoch 37/60\n",
            "718/718 [==============================] - 144s 201ms/step - loss: 3.4222 - sparse_categorical_accuracy: 0.6058 - val_loss: 4.9771 - val_sparse_categorical_accuracy: 0.3425\n",
            "Epoch 38/60\n",
            "718/718 [==============================] - 144s 201ms/step - loss: 3.3499 - sparse_categorical_accuracy: 0.6196 - val_loss: 4.9335 - val_sparse_categorical_accuracy: 0.3479\n",
            "Epoch 39/60\n",
            "718/718 [==============================] - 144s 201ms/step - loss: 3.2807 - sparse_categorical_accuracy: 0.6282 - val_loss: 4.8907 - val_sparse_categorical_accuracy: 0.3511\n",
            "Epoch 40/60\n",
            "718/718 [==============================] - 144s 201ms/step - loss: 3.2156 - sparse_categorical_accuracy: 0.6383 - val_loss: 4.8476 - val_sparse_categorical_accuracy: 0.3573\n",
            "Epoch 41/60\n",
            "718/718 [==============================] - 144s 200ms/step - loss: 3.1519 - sparse_categorical_accuracy: 0.6494 - val_loss: 4.8153 - val_sparse_categorical_accuracy: 0.3591\n",
            "Epoch 42/60\n",
            "718/718 [==============================] - 144s 200ms/step - loss: 3.0938 - sparse_categorical_accuracy: 0.6600 - val_loss: 4.7794 - val_sparse_categorical_accuracy: 0.3637\n",
            "Epoch 43/60\n",
            "718/718 [==============================] - 143s 200ms/step - loss: 3.0401 - sparse_categorical_accuracy: 0.6671 - val_loss: 4.7384 - val_sparse_categorical_accuracy: 0.3696\n",
            "Epoch 44/60\n",
            "718/718 [==============================] - 144s 200ms/step - loss: 2.9875 - sparse_categorical_accuracy: 0.6738 - val_loss: 4.7098 - val_sparse_categorical_accuracy: 0.3719\n",
            "Epoch 45/60\n",
            "718/718 [==============================] - 144s 200ms/step - loss: 2.9411 - sparse_categorical_accuracy: 0.6792 - val_loss: 4.6814 - val_sparse_categorical_accuracy: 0.3748\n",
            "Epoch 46/60\n",
            "718/718 [==============================] - 144s 200ms/step - loss: 2.8964 - sparse_categorical_accuracy: 0.6903 - val_loss: 4.6577 - val_sparse_categorical_accuracy: 0.3767\n",
            "Epoch 47/60\n",
            "718/718 [==============================] - 144s 200ms/step - loss: 2.8556 - sparse_categorical_accuracy: 0.6938 - val_loss: 4.6361 - val_sparse_categorical_accuracy: 0.3787\n",
            "Epoch 48/60\n",
            "718/718 [==============================] - 144s 201ms/step - loss: 2.8185 - sparse_categorical_accuracy: 0.6998 - val_loss: 4.6086 - val_sparse_categorical_accuracy: 0.3814\n",
            "Epoch 49/60\n",
            "718/718 [==============================] - 144s 201ms/step - loss: 2.7817 - sparse_categorical_accuracy: 0.7052 - val_loss: 4.5871 - val_sparse_categorical_accuracy: 0.3854\n",
            "Epoch 50/60\n",
            "718/718 [==============================] - 145s 201ms/step - loss: 2.7482 - sparse_categorical_accuracy: 0.7100 - val_loss: 4.5688 - val_sparse_categorical_accuracy: 0.3872\n",
            "Epoch 51/60\n",
            "718/718 [==============================] - 144s 201ms/step - loss: 2.7211 - sparse_categorical_accuracy: 0.7109 - val_loss: 4.5547 - val_sparse_categorical_accuracy: 0.3862\n",
            "Epoch 52/60\n",
            "718/718 [==============================] - 144s 201ms/step - loss: 2.6951 - sparse_categorical_accuracy: 0.7177 - val_loss: 4.5353 - val_sparse_categorical_accuracy: 0.3904\n",
            "Epoch 53/60\n",
            "718/718 [==============================] - 144s 201ms/step - loss: 2.6699 - sparse_categorical_accuracy: 0.7214 - val_loss: 4.5208 - val_sparse_categorical_accuracy: 0.3910\n",
            "Epoch 54/60\n",
            "718/718 [==============================] - 144s 201ms/step - loss: 2.6478 - sparse_categorical_accuracy: 0.7270 - val_loss: 4.5106 - val_sparse_categorical_accuracy: 0.3919\n",
            "Epoch 55/60\n",
            "718/718 [==============================] - 144s 200ms/step - loss: 2.6308 - sparse_categorical_accuracy: 0.7305 - val_loss: 4.5008 - val_sparse_categorical_accuracy: 0.3953\n",
            "Epoch 56/60\n",
            "718/718 [==============================] - 144s 201ms/step - loss: 2.6152 - sparse_categorical_accuracy: 0.7296 - val_loss: 4.4933 - val_sparse_categorical_accuracy: 0.3939\n",
            "Epoch 57/60\n",
            "718/718 [==============================] - 144s 201ms/step - loss: 2.5997 - sparse_categorical_accuracy: 0.7332 - val_loss: 4.4841 - val_sparse_categorical_accuracy: 0.3968\n",
            "Epoch 58/60\n",
            "718/718 [==============================] - 144s 201ms/step - loss: 2.5895 - sparse_categorical_accuracy: 0.7367 - val_loss: 4.4806 - val_sparse_categorical_accuracy: 0.3957\n",
            "Epoch 59/60\n",
            "718/718 [==============================] - 144s 201ms/step - loss: 2.5854 - sparse_categorical_accuracy: 0.7354 - val_loss: 4.4780 - val_sparse_categorical_accuracy: 0.3968\n",
            "Epoch 60/60\n",
            "718/718 [==============================] - 144s 201ms/step - loss: 2.5783 - sparse_categorical_accuracy: 0.7367 - val_loss: 4.4769 - val_sparse_categorical_accuracy: 0.3971\n"
          ],
          "name": "stdout"
        }
      ]
    },
    {
      "cell_type": "code",
      "metadata": {
        "id": "8HXEEiRW-L7S"
      },
      "source": [
        "saved_model_path = '/content/drive/MyDrive/shopee/bert_model/bert.h5'\n",
        "classifier_model.save_weights(saved_model_path)"
      ],
      "execution_count": null,
      "outputs": []
    },
    {
      "cell_type": "code",
      "metadata": {
        "colab": {
          "base_uri": "https://localhost:8080/",
          "height": 438
        },
        "id": "U-56aIchm5jq",
        "outputId": "584df767-13ce-4b33-c589-1e0ce2909660"
      },
      "source": [
        "history_dict = history.history\n",
        "print(history_dict.keys())\n",
        "\n",
        "acc = history_dict['sparse_categorical_accuracy']\n",
        "val_acc = history_dict['val_sparse_categorical_accuracy']\n",
        "loss = history_dict['loss']\n",
        "val_loss = history_dict['val_loss']\n",
        "\n",
        "epochs = range(1, len(acc) + 1)\n",
        "fig = plt.figure(figsize=(10, 6))\n",
        "fig.tight_layout()\n",
        "\n",
        "plt.subplot(2, 1, 1)\n",
        "# \"bo\" is for \"blue dot\"\n",
        "plt.plot(epochs, loss, 'r', label='Training loss')\n",
        "# b is for \"solid blue line\"\n",
        "plt.plot(epochs, val_loss, 'b', label='Validation loss')\n",
        "plt.title('Training and validation loss')\n",
        "# plt.xlabel('Epochs')\n",
        "plt.ylabel('Loss')\n",
        "plt.legend()\n",
        "\n",
        "plt.subplot(2, 1, 2)\n",
        "plt.plot(epochs, acc, 'r', label='Training acc')\n",
        "plt.plot(epochs, val_acc, 'b', label='Validation acc')\n",
        "plt.title('Training and validation accuracy')\n",
        "plt.xlabel('Epochs')\n",
        "plt.ylabel('Accuracy')\n",
        "plt.legend(loc='lower right')"
      ],
      "execution_count": null,
      "outputs": [
        {
          "output_type": "stream",
          "text": [
            "dict_keys(['loss', 'sparse_categorical_accuracy', 'val_loss', 'val_sparse_categorical_accuracy'])\n"
          ],
          "name": "stdout"
        },
        {
          "output_type": "execute_result",
          "data": {
            "text/plain": [
              "<matplotlib.legend.Legend at 0x7f856e794a50>"
            ]
          },
          "metadata": {
            "tags": []
          },
          "execution_count": 22
        },
        {
          "output_type": "display_data",
          "data": {
            "image/png": "[encoded data removed]",
            "text/plain": [
              "<Figure size 720x432 with 2 Axes>"
            ]
          },
          "metadata": {
            "tags": []
          }
        }
      ]
    },
    {
      "cell_type": "code",
      "metadata": {
        "id": "Xpskq7hN0ute"
      },
      "source": [
        "def f1_score(y_true, y_pred):\n",
        "  y_true = y_true.apply(lambda x: set(x.split()))\n",
        "  y_pred = y_pred.apply(lambda x: set(x.split()))\n",
        "  intersection = np.array([len(x[0] & x[1]) for x in zip(y_true, y_pred)])\n",
        "  len_y_pred = y_pred.apply(lambda x: len(x)).values\n",
        "  len_y_true = y_true.apply(lambda x: len(x)).values\n",
        "  f1 = 2 * intersection / (len_y_pred + len_y_true)\n",
        "  return f1"
      ],
      "execution_count": null,
      "outputs": []
    },
    {
      "cell_type": "code",
      "metadata": {
        "colab": {
          "base_uri": "https://localhost:8080/"
        },
        "id": "rVZQ9XQG9QTv",
        "outputId": "15235db3-9193-4a43-b43c-de119b762a80"
      },
      "source": [
        "reconstructed_model = build_classifier_model()\n",
        "reconstructed_model.load_weights(saved_model_path)\n",
        "# 重新取输入和输出 选取embedding层作为输出\n",
        "reconstructed_model = tf.keras.models.Model(inputs = reconstructed_model.input, \n",
        "                        outputs = reconstructed_model.layers[-2].output) \n",
        "reconstructed_model.summary()"
      ],
      "execution_count": null,
      "outputs": [
        {
          "output_type": "stream",
          "text": [
            "Model: \"model_2\"\n",
            "__________________________________________________________________________________________________\n",
            "Layer (type)                    Output Shape         Param #     Connected to                     \n",
            "==================================================================================================\n",
            "text (InputLayer)               [(None,)]            0                                            \n",
            "__________________________________________________________________________________________________\n",
            "preprocessing (KerasLayer)      {'input_word_ids': ( 0           text[0][0]                       \n",
            "__________________________________________________________________________________________________\n",
            "BERT_encoder (KerasLayer)       {'pooled_output': (N 28763649    preprocessing[0][0]              \n",
            "                                                                 preprocessing[0][1]              \n",
            "                                                                 preprocessing[0][2]              \n",
            "__________________________________________________________________________________________________\n",
            "dropout_1 (Dropout)             (None, 512)          0           BERT_encoder[0][5]               \n",
            "==================================================================================================\n",
            "Total params: 28,763,649\n",
            "Trainable params: 28,763,648\n",
            "Non-trainable params: 1\n",
            "__________________________________________________________________________________________________\n"
          ],
          "name": "stdout"
        }
      ]
    },
    {
      "cell_type": "code",
      "metadata": {
        "id": "yBp5JyDZ9EM-"
      },
      "source": [
        "embeds = []\n",
        "for text_batch, labels_batch in tqdm(val_dataset):\n",
        "  embeds.append(reconstructed_model.predict(text_batch))"
      ],
      "execution_count": null,
      "outputs": []
    },
    {
      "cell_type": "code",
      "metadata": {
        "colab": {
          "background_save": true
        },
        "id": "QkqVPU08AYps"
      },
      "source": [
        "text_embeddings = np.concatenate(embeds)"
      ],
      "execution_count": null,
      "outputs": []
    },
    {
      "cell_type": "code",
      "metadata": {
        "colab": {
          "background_save": true
        },
        "id": "I-CMTPkiGAqX",
        "outputId": "5c2229ed-8060-49e1-8d21-cca389890503"
      },
      "source": [
        "text_embeddings.shape"
      ],
      "execution_count": null,
      "outputs": [
        {
          "output_type": "execute_result",
          "data": {
            "text/plain": [
              "(11303, 512)"
            ]
          },
          "metadata": {
            "tags": []
          },
          "execution_count": 0
        }
      ]
    },
    {
      "cell_type": "code",
      "metadata": {
        "id": "cLRuTjMPAXiK"
      },
      "source": [
        "def get_neighbors(df, embeddings, KNN=50, threshold = 4.5):\n",
        "\n",
        "    model = NearestNeighbors(n_neighbors = KNN)\n",
        "    model.fit(embeddings)\n",
        "    distances, indices = model.kneighbors(embeddings)\n",
        "    \n",
        "    predictions = []\n",
        "    for k in tqdm(range(embeddings.shape[0])):\n",
        "        idx = np.where(distances[k,] < threshold)[0]\n",
        "        ids = indices[k,idx]\n",
        "        posting_ids = df['posting_id'].iloc[ids].values\n",
        "        predictions.append(posting_ids)\n",
        "        \n",
        "    del model, distances, indices\n",
        "    gc.collect()\n",
        "    return df, predictions"
      ],
      "execution_count": null,
      "outputs": []
    },
    {
      "cell_type": "code",
      "metadata": {
        "colab": {
          "base_uri": "https://localhost:8080/"
        },
        "id": "RFsduyYa3Qdu",
        "outputId": "69484832-b4ef-4f2e-f21f-9258ef7e773e"
      },
      "source": [
        "df_test_pred, text_predictions = get_neighbors(x_val, text_embeddings, KNN = 50)"
      ],
      "execution_count": 32,
      "outputs": [
        {
          "output_type": "stream",
          "text": [
            "100%|██████████| 11303/11303 [00:01<00:00, 7867.14it/s]\n"
          ],
          "name": "stderr"
        }
      ]
    },
    {
      "cell_type": "code",
      "metadata": {
        "id": "bKRgpeO13Skn"
      },
      "source": [
        "def combine_predictions(row):\n",
        "  # x = np.concatenate([row['image_predictions'], row['text_predictions']])\n",
        "  x = row['text_predictions']\n",
        "  return ' '.join(np.unique(x))"
      ],
      "execution_count": 33,
      "outputs": []
    },
    {
      "cell_type": "code",
      "metadata": {
        "id": "XiwBfvc43SN8"
      },
      "source": [
        "#df_test_pred['image_predictions'] = image_predictions\n",
        "df_test_pred['text_predictions'] = text_predictions\n",
        "df_test_pred['matches'] = df_test_pred.apply(combine_predictions, axis=1)\n",
        "df_test_pred[['posting_id', 'matches']].to_csv('/content/drive/MyDrive/shopee/submission.csv', index=False)"
      ],
      "execution_count": 37,
      "outputs": []
    },
    {
      "cell_type": "code",
      "metadata": {
        "colab": {
          "base_uri": "https://localhost:8080/",
          "height": 203
        },
        "id": "GkWA-oZuNrIV",
        "outputId": "a81e2070-abcf-462a-f15b-00ccd27ecfa9"
      },
      "source": [
        "df_test_pred.head()"
      ],
      "execution_count": 39,
      "outputs": [
        {
          "output_type": "execute_result",
          "data": {
            "text/html": [
              "<div>\n",
              "<style scoped>\n",
              "    .dataframe tbody tr th:only-of-type {\n",
              "        vertical-align: middle;\n",
              "    }\n",
              "\n",
              "    .dataframe tbody tr th {\n",
              "        vertical-align: top;\n",
              "    }\n",
              "\n",
              "    .dataframe thead th {\n",
              "        text-align: right;\n",
              "    }\n",
              "</style>\n",
              "<table border=\"1\" class=\"dataframe\">\n",
              "  <thead>\n",
              "    <tr style=\"text-align: right;\">\n",
              "      <th></th>\n",
              "      <th>title</th>\n",
              "      <th>posting_id</th>\n",
              "      <th>text_predictions</th>\n",
              "      <th>matches</th>\n",
              "    </tr>\n",
              "  </thead>\n",
              "  <tbody>\n",
              "    <tr>\n",
              "      <th>15319</th>\n",
              "      <td>LAMPU LED PHILIPS 12 WATT 12WATT 12W 12 W KEMA...</td>\n",
              "      <td>train_2332310353</td>\n",
              "      <td>[train_2332310353]</td>\n",
              "      <td>train_2332310353</td>\n",
              "    </tr>\n",
              "    <tr>\n",
              "      <th>13540</th>\n",
              "      <td>OMGENDUT Xylophone Mainan</td>\n",
              "      <td>train_290486421</td>\n",
              "      <td>[train_290486421]</td>\n",
              "      <td>train_290486421</td>\n",
              "    </tr>\n",
              "    <tr>\n",
              "      <th>28794</th>\n",
              "      <td>Garnier Micellar Water Bi-Phase Skin Care - 40...</td>\n",
              "      <td>train_658477378</td>\n",
              "      <td>[train_658477378]</td>\n",
              "      <td>train_658477378</td>\n",
              "    </tr>\n",
              "    <tr>\n",
              "      <th>17937</th>\n",
              "      <td>RAK GANTUNG SERBAGUNA / Storage Decorative Rac...</td>\n",
              "      <td>train_4130879443</td>\n",
              "      <td>[train_4130879443]</td>\n",
              "      <td>train_4130879443</td>\n",
              "    </tr>\n",
              "    <tr>\n",
              "      <th>8639</th>\n",
              "      <td>\\xe3\\x80\\x90 COD \\xe3\\x80\\x91 Botol Spray / Fl...</td>\n",
              "      <td>train_1217495101</td>\n",
              "      <td>[train_1217495101]</td>\n",
              "      <td>train_1217495101</td>\n",
              "    </tr>\n",
              "  </tbody>\n",
              "</table>\n",
              "</div>"
            ],
            "text/plain": [
              "                                                   title  ...           matches\n",
              "15319  LAMPU LED PHILIPS 12 WATT 12WATT 12W 12 W KEMA...  ...  train_2332310353\n",
              "13540                          OMGENDUT Xylophone Mainan  ...   train_290486421\n",
              "28794  Garnier Micellar Water Bi-Phase Skin Care - 40...  ...   train_658477378\n",
              "17937  RAK GANTUNG SERBAGUNA / Storage Decorative Rac...  ...  train_4130879443\n",
              "8639   \\xe3\\x80\\x90 COD \\xe3\\x80\\x91 Botol Spray / Fl...  ...  train_1217495101\n",
              "\n",
              "[5 rows x 4 columns]"
            ]
          },
          "metadata": {
            "tags": []
          },
          "execution_count": 39
        }
      ]
    },
    {
      "cell_type": "code",
      "metadata": {
        "id": "-mGcH_8ZNreu"
      },
      "source": [
        "df_test_pred = pd.read_csv('/content/drive/MyDrive/shopee/submission.csv')"
      ],
      "execution_count": 40,
      "outputs": []
    },
    {
      "cell_type": "code",
      "metadata": {
        "colab": {
          "base_uri": "https://localhost:8080/",
          "height": 203
        },
        "id": "dNBxqg4HNrF0",
        "outputId": "a5580daf-0b9f-49df-a122-8d36b435b7f7"
      },
      "source": [
        "df_test_pred.head()"
      ],
      "execution_count": 41,
      "outputs": [
        {
          "output_type": "execute_result",
          "data": {
            "text/html": [
              "<div>\n",
              "<style scoped>\n",
              "    .dataframe tbody tr th:only-of-type {\n",
              "        vertical-align: middle;\n",
              "    }\n",
              "\n",
              "    .dataframe tbody tr th {\n",
              "        vertical-align: top;\n",
              "    }\n",
              "\n",
              "    .dataframe thead th {\n",
              "        text-align: right;\n",
              "    }\n",
              "</style>\n",
              "<table border=\"1\" class=\"dataframe\">\n",
              "  <thead>\n",
              "    <tr style=\"text-align: right;\">\n",
              "      <th></th>\n",
              "      <th>posting_id</th>\n",
              "      <th>matches</th>\n",
              "    </tr>\n",
              "  </thead>\n",
              "  <tbody>\n",
              "    <tr>\n",
              "      <th>0</th>\n",
              "      <td>train_2332310353</td>\n",
              "      <td>train_2332310353</td>\n",
              "    </tr>\n",
              "    <tr>\n",
              "      <th>1</th>\n",
              "      <td>train_290486421</td>\n",
              "      <td>train_290486421</td>\n",
              "    </tr>\n",
              "    <tr>\n",
              "      <th>2</th>\n",
              "      <td>train_658477378</td>\n",
              "      <td>train_658477378</td>\n",
              "    </tr>\n",
              "    <tr>\n",
              "      <th>3</th>\n",
              "      <td>train_4130879443</td>\n",
              "      <td>train_4130879443</td>\n",
              "    </tr>\n",
              "    <tr>\n",
              "      <th>4</th>\n",
              "      <td>train_1217495101</td>\n",
              "      <td>train_1217495101</td>\n",
              "    </tr>\n",
              "  </tbody>\n",
              "</table>\n",
              "</div>"
            ],
            "text/plain": [
              "         posting_id           matches\n",
              "0  train_2332310353  train_2332310353\n",
              "1   train_290486421   train_290486421\n",
              "2   train_658477378   train_658477378\n",
              "3  train_4130879443  train_4130879443\n",
              "4  train_1217495101  train_1217495101"
            ]
          },
          "metadata": {
            "tags": []
          },
          "execution_count": 41
        }
      ]
    },
    {
      "cell_type": "code",
      "metadata": {
        "id": "iILsubhONygz"
      },
      "source": [
        "df_test_pred['f1'] = f1_score(df_test_pred['posting_id'], df_test_pred['matches'])"
      ],
      "execution_count": 42,
      "outputs": []
    },
    {
      "cell_type": "code",
      "metadata": {
        "colab": {
          "base_uri": "https://localhost:8080/"
        },
        "id": "-0brXBHlNzFt",
        "outputId": "e676f75f-ef11-4512-ffa1-bd478738c3ed"
      },
      "source": [
        "df_test_pred['f1'].mean()"
      ],
      "execution_count": 43,
      "outputs": [
        {
          "output_type": "execute_result",
          "data": {
            "text/plain": [
              "0.9585294928755242"
            ]
          },
          "metadata": {
            "tags": []
          },
          "execution_count": 43
        }
      ]
    },
    {
      "cell_type": "code",
      "metadata": {
        "id": "CptLNlSrOY3t"
      },
      "source": [],
      "execution_count": null,
      "outputs": []
    }
  ]
}