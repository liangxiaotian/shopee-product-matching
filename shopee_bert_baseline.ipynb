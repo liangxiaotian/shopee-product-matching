{
  "nbformat": 4,
  "nbformat_minor": 0,
  "metadata": {
    "accelerator": "GPU",
    "colab": {
      "name": "shopee-bert-baseline_v2.ipynb",
      "provenance": [],
      "collapsed_sections": [],
      "machine_shape": "hm"
    },
    "kernelspec": {
      "display_name": "Python 3",
      "language": "python",
      "name": "python3"
    },
    "language_info": {
      "codemirror_mode": {
        "name": "ipython",
        "version": 3
      },
      "file_extension": ".py",
      "mimetype": "text/x-python",
      "name": "python",
      "nbconvert_exporter": "python",
      "pygments_lexer": "ipython3",
      "version": "3.6.4"
    }
  },
  "cells": [
    {
      "cell_type": "code",
      "metadata": {
        "colab": {
          "base_uri": "https://localhost:8080/"
        },
        "id": "jL5V0GMgChKT",
        "outputId": "e473beb1-96c5-4204-c177-b7038a473e22"
      },
      "source": [
        "from google.colab import drive\n",
        "drive.mount(\"/content/drive\", force_remount=True)\n",
        "!ls"
      ],
      "execution_count": null,
      "outputs": [
        {
          "output_type": "stream",
          "text": [
            "Mounted at /content/drive\n",
            "drive  sample_data\n"
          ],
          "name": "stdout"
        }
      ]
    },
    {
      "cell_type": "code",
      "metadata": {
        "id": "3dtxGnDIbmEZ"
      },
      "source": [
        "# A dependency of the preprocessing for BERT inputs\n",
        "!pip install -q -U tensorflow-text"
      ],
      "execution_count": null,
      "outputs": []
    },
    {
      "cell_type": "code",
      "metadata": {
        "id": "cH-6IIwNbtFk"
      },
      "source": [
        "!pip install -q tf-models-official"
      ],
      "execution_count": null,
      "outputs": []
    },
    {
      "cell_type": "code",
      "metadata": {
        "id": "cX0Zbnz7bfO0"
      },
      "source": [
        "import os\n",
        "import shutil\n",
        "import random\n",
        "from tqdm import tqdm\n",
        "import gc\n",
        "\n",
        "import pandas as pd\n",
        "import numpy as np\n",
        "import tensorflow as tf\n",
        "import tensorflow_hub as hub\n",
        "import tensorflow_text as text\n",
        "from official.nlp import optimization  # to create AdamW optimizer\n",
        "\n",
        "import matplotlib.pyplot as plt\n",
        "from sklearn.model_selection import train_test_split\n",
        "from sklearn.preprocessing import LabelEncoder\n",
        "from sklearn.neighbors import NearestNeighbors\n",
        "\n",
        "tf.get_logger().setLevel('ERROR')\n",
        "AUTOTUNE = tf.data.experimental.AUTOTUNE"
      ],
      "execution_count": null,
      "outputs": []
    },
    {
      "cell_type": "code",
      "metadata": {
        "id": "MEf4VQ6epFj7"
      },
      "source": [
        "# Function to seed everything\n",
        "def seed_everything(seed):\n",
        "    random.seed(seed)\n",
        "    np.random.seed(seed)\n",
        "    os.environ['PYTHONHASHSEED'] = str(seed)\n",
        "    tf.random.set_seed(seed)"
      ],
      "execution_count": null,
      "outputs": []
    },
    {
      "cell_type": "code",
      "metadata": {
        "id": "Lwpo15JtpHkI"
      },
      "source": [
        "SEED = 2021\n",
        "seed_everything(SEED)"
      ],
      "execution_count": null,
      "outputs": []
    },
    {
      "cell_type": "code",
      "metadata": {
        "colab": {
          "base_uri": "https://localhost:8080/"
        },
        "id": "nQAtT9SUtw2w",
        "outputId": "f9b82626-0e1b-4283-8df9-9fe4eaaab2b0"
      },
      "source": [
        "def read_and_preprocess():\n",
        "    df = pd.read_csv('/content/drive/MyDrive/shopee/shopee-product-matching/train.csv')\n",
        "    tmp = df.groupby(['label_group'])['posting_id'].unique().to_dict()\n",
        "    df['matches'] = df['label_group'].map(tmp)\n",
        "    df['matches'] = df['matches'].apply(lambda x: ' '.join(x))\n",
        "    encoder = LabelEncoder()\n",
        "    df['label_group'] = encoder.fit_transform(df['label_group'])\n",
        "    N_CLASSES = df['label_group'].nunique()\n",
        "    print(f'We have {N_CLASSES} classes')\n",
        "    x_train, x_val, y_train, y_val = train_test_split(df[['title','posting_id']], df['label_group'], shuffle = True, stratify = df['label_group'], random_state = SEED, test_size = 0.33)\n",
        "    return df, N_CLASSES, x_train, x_val, y_train, y_val\n",
        "df, N_CLASSES, x_train, x_val, y_train, y_val = read_and_preprocess()"
      ],
      "execution_count": null,
      "outputs": [
        {
          "output_type": "stream",
          "text": [
            "We have 11014 classes\n"
          ],
          "name": "stdout"
        }
      ]
    },
    {
      "cell_type": "code",
      "metadata": {
        "id": "xjaZyelNuD6d"
      },
      "source": [
        "train_dataset = tf.data.Dataset.from_tensor_slices((x_train['title'].values, y_train.values))\n",
        "train_dataset = train_dataset.batch(32)\n",
        "train_dataset = train_dataset.shuffle(1000)\n",
        "train_dataset = train_dataset.prefetch(AUTOTUNE)"
      ],
      "execution_count": null,
      "outputs": []
    },
    {
      "cell_type": "code",
      "metadata": {
        "id": "3bFqliCDsJyK"
      },
      "source": [
        "val_dataset = tf.data.Dataset.from_tensor_slices((x_val['title'].values, y_val.values))\n",
        "val_dataset = val_dataset.batch(32)\n",
        "val_dataset = val_dataset.prefetch(AUTOTUNE)"
      ],
      "execution_count": null,
      "outputs": []
    },
    {
      "cell_type": "code",
      "metadata": {
        "id": "a3aH7xv2upk6",
        "colab": {
          "base_uri": "https://localhost:8080/"
        },
        "outputId": "281dffd5-803e-4106-a4f5-2735fe8a0d17"
      },
      "source": [
        "for text_batch, label_batch in train_dataset.take(1):\n",
        "  print(text_batch, label_batch)"
      ],
      "execution_count": null,
      "outputs": [
        {
          "output_type": "stream",
          "text": [
            "tf.Tensor(\n",
            "[b'Mustika Ratu Minyak Zaitun Hair Tonic Cem ceman 175ml & 75ml'\n",
            " b'NHTID Tali Kur Nilon untuk Jaring/Teralis/Jala Tanaman Rambat di Kebun'\n",
            " b'Ink7 Kemeja Stripe Pria' b'kaos polos pendek katun putih'\n",
            " b'Kunci Gembok Pengaman Rem Cakram Disc Motor Brake Disc Lock Sepeda Skuter Anti Maling Piringan Rem'\n",
            " b'Samsung Galaxy Tab A 8.0 2019 T295 2/32 GB - Garansi Resmi'\n",
            " b'FAIR N PINK BODY SERUM PEMUTIH TUBUH 160ML ASLI'\n",
            " b'Karpet Refleksi DATAR Alat Pijat alas Kaki Foot Refleksi Akupuntur Matras'\n",
            " b'12 Pcs celana dalam anak laki/perempuan 1-5 tahun'\n",
            " b'GPU Minyak Urut Cap Llang (jahe) 30ml'\n",
            " b'Sendal Wudhu~sendal jepit musholla'\n",
            " b'Lakme Classics Reinvent Liquid Matte'\n",
            " b'PURBASARI HIMATTE LIP CREAM - LIP CREAM PURBASARI - PURBASARI LIP CREAM'\n",
            " b'TUNIK INES/ INESSA prisket remple/TERLARIS/ PROMO/BEST SELLER  QUALITY/'\n",
            " b'Toner hn 15gr' b'SPATULA 6IN 1 SERBAGUNA TERMURAH !!'\n",
            " b'Jemuran Baju Berdiri Gantungan Pakaian Lipat Besi Model Menara Serbaguna Portable Gantung K8G1'\n",
            " b'HANASUI- Naturgo Peel Off Mask Black - Box'\n",
            " b'Tirai Benang Motif Love heart Motif Tirai Korea cantik gorden gordyn dekorasi ruangan Baichuan'\n",
            " b'MINISO Tas Travel Bag Lipat Ringan Olahraga Sport Boston'\n",
            " b'Mukena Dewasa Rayon Songket Fendy'\n",
            " b'BOTOL MINUM NEW BUTTON SPRAY 600ML PUSH WATER BOTTLE SPORT NEW-B'\n",
            " b'CETAKAN LONTONG 1LUSIN KUALITAS BAGUS'\n",
            " b'MOLTO SOFTENER BLOSSSOM PINK 820 ML ( KHUSUS SUMATERA UTARA )'\n",
            " b'LA TULIPE 2IN1 ACNE PORE CLEANSER'\n",
            " b'\\\\xe2\\\\x9d\\\\xa4artemis.shop\\\\xe2\\\\x9d\\\\xa4 Acnes Treatment Series Sport Care 12g'\n",
            " b'GROSIR Kasih Sepanjang Masa Kaos Oblong Distro/Cotton Combad 30s/Atasan Casual Pria/T-Shirt'\n",
            " b'Talang AC Penahan Angin AC Reflektor Screen Cover Fleksible Universal HD-009'\n",
            " b'FYGALERY Cermin Bulat Karakter Kaca Cermin Make Up Mini Travelling Motif Kartun Colorful HR210'\n",
            " b'Pisau Sarung Motif Apel'\n",
            " b'[Terlaris] Pediasure Coklat  400400gr 400gram Susu Pediasure COKLAT Triplesure 400 400gr 400gram'\n",
            " b'Pompa Injak Satu Tabung Darurat Emergency Foot Pump Single Ban Mobil Sepeda Motor Wheel'], shape=(32,), dtype=string) tf.Tensor(\n",
            "[ 1822  2469  5748    46  7422  6634  3151  5225  3993 10122  2709  6433\n",
            "  5239  5729  6213  5547  6738  4443  9569  4956  6747 10713  9015  3137\n",
            "  9390   221 10565  2287  8345  2488  8924  2437], shape=(32,), dtype=int64)\n"
          ],
          "name": "stdout"
        }
      ]
    },
    {
      "cell_type": "code",
      "metadata": {
        "colab": {
          "base_uri": "https://localhost:8080/"
        },
        "id": "BfmbwPk5gzxn",
        "outputId": "0e2ec71f-16af-4019-e5a2-8856b9c278d3"
      },
      "source": [
        "bert_model_name = 'small_bert/bert_en_uncased_L-4_H-512_A-8' \n",
        "\n",
        "map_name_to_handle = {\n",
        "    'bert_en_uncased_L-12_H-768_A-12':\n",
        "        'https://tfhub.dev/tensorflow/bert_en_uncased_L-12_H-768_A-12/3',\n",
        "    'bert_en_cased_L-12_H-768_A-12':\n",
        "        'https://tfhub.dev/tensorflow/bert_en_cased_L-12_H-768_A-12/3',\n",
        "    'bert_multi_cased_L-12_H-768_A-12':\n",
        "        'https://tfhub.dev/tensorflow/bert_multi_cased_L-12_H-768_A-12/3',\n",
        "    'small_bert/bert_en_uncased_L-2_H-128_A-2':\n",
        "        'https://tfhub.dev/tensorflow/small_bert/bert_en_uncased_L-2_H-128_A-2/1',\n",
        "    'small_bert/bert_en_uncased_L-2_H-256_A-4':\n",
        "        'https://tfhub.dev/tensorflow/small_bert/bert_en_uncased_L-2_H-256_A-4/1',\n",
        "    'small_bert/bert_en_uncased_L-2_H-512_A-8':\n",
        "        'https://tfhub.dev/tensorflow/small_bert/bert_en_uncased_L-2_H-512_A-8/1',\n",
        "    'small_bert/bert_en_uncased_L-2_H-768_A-12':\n",
        "        'https://tfhub.dev/tensorflow/small_bert/bert_en_uncased_L-2_H-768_A-12/1',\n",
        "    'small_bert/bert_en_uncased_L-4_H-128_A-2':\n",
        "        'https://tfhub.dev/tensorflow/small_bert/bert_en_uncased_L-4_H-128_A-2/1',\n",
        "    'small_bert/bert_en_uncased_L-4_H-256_A-4':\n",
        "        'https://tfhub.dev/tensorflow/small_bert/bert_en_uncased_L-4_H-256_A-4/1',\n",
        "    'small_bert/bert_en_uncased_L-4_H-512_A-8':\n",
        "        'https://tfhub.dev/tensorflow/small_bert/bert_en_uncased_L-4_H-512_A-8/1',\n",
        "    'small_bert/bert_en_uncased_L-4_H-768_A-12':\n",
        "        'https://tfhub.dev/tensorflow/small_bert/bert_en_uncased_L-4_H-768_A-12/1',\n",
        "    'small_bert/bert_en_uncased_L-6_H-128_A-2':\n",
        "        'https://tfhub.dev/tensorflow/small_bert/bert_en_uncased_L-6_H-128_A-2/1',\n",
        "    'small_bert/bert_en_uncased_L-6_H-256_A-4':\n",
        "        'https://tfhub.dev/tensorflow/small_bert/bert_en_uncased_L-6_H-256_A-4/1',\n",
        "    'small_bert/bert_en_uncased_L-6_H-512_A-8':\n",
        "        'https://tfhub.dev/tensorflow/small_bert/bert_en_uncased_L-6_H-512_A-8/1',\n",
        "    'small_bert/bert_en_uncased_L-6_H-768_A-12':\n",
        "        'https://tfhub.dev/tensorflow/small_bert/bert_en_uncased_L-6_H-768_A-12/1',\n",
        "    'small_bert/bert_en_uncased_L-8_H-128_A-2':\n",
        "        'https://tfhub.dev/tensorflow/small_bert/bert_en_uncased_L-8_H-128_A-2/1',\n",
        "    'small_bert/bert_en_uncased_L-8_H-256_A-4':\n",
        "        'https://tfhub.dev/tensorflow/small_bert/bert_en_uncased_L-8_H-256_A-4/1',\n",
        "    'small_bert/bert_en_uncased_L-8_H-512_A-8':\n",
        "        'https://tfhub.dev/tensorflow/small_bert/bert_en_uncased_L-8_H-512_A-8/1',\n",
        "    'small_bert/bert_en_uncased_L-8_H-768_A-12':\n",
        "        'https://tfhub.dev/tensorflow/small_bert/bert_en_uncased_L-8_H-768_A-12/1',\n",
        "    'small_bert/bert_en_uncased_L-10_H-128_A-2':\n",
        "        'https://tfhub.dev/tensorflow/small_bert/bert_en_uncased_L-10_H-128_A-2/1',\n",
        "    'small_bert/bert_en_uncased_L-10_H-256_A-4':\n",
        "        'https://tfhub.dev/tensorflow/small_bert/bert_en_uncased_L-10_H-256_A-4/1',\n",
        "    'small_bert/bert_en_uncased_L-10_H-512_A-8':\n",
        "        'https://tfhub.dev/tensorflow/small_bert/bert_en_uncased_L-10_H-512_A-8/1',\n",
        "    'small_bert/bert_en_uncased_L-10_H-768_A-12':\n",
        "        'https://tfhub.dev/tensorflow/small_bert/bert_en_uncased_L-10_H-768_A-12/1',\n",
        "    'small_bert/bert_en_uncased_L-12_H-128_A-2':\n",
        "        'https://tfhub.dev/tensorflow/small_bert/bert_en_uncased_L-12_H-128_A-2/1',\n",
        "    'small_bert/bert_en_uncased_L-12_H-256_A-4':\n",
        "        'https://tfhub.dev/tensorflow/small_bert/bert_en_uncased_L-12_H-256_A-4/1',\n",
        "    'small_bert/bert_en_uncased_L-12_H-512_A-8':\n",
        "        'https://tfhub.dev/tensorflow/small_bert/bert_en_uncased_L-12_H-512_A-8/1',\n",
        "    'small_bert/bert_en_uncased_L-12_H-768_A-12':\n",
        "        'https://tfhub.dev/tensorflow/small_bert/bert_en_uncased_L-12_H-768_A-12/1',\n",
        "    'albert_en_base':\n",
        "        'https://tfhub.dev/tensorflow/albert_en_base/2',\n",
        "    'electra_small':\n",
        "        'https://tfhub.dev/google/electra_small/2',\n",
        "    'electra_base':\n",
        "        'https://tfhub.dev/google/electra_base/2',\n",
        "    'experts_pubmed':\n",
        "        'https://tfhub.dev/google/experts/bert/pubmed/2',\n",
        "    'experts_wiki_books':\n",
        "        'https://tfhub.dev/google/experts/bert/wiki_books/2',\n",
        "    'talking-heads_base':\n",
        "        'https://tfhub.dev/tensorflow/talkheads_ggelu_bert_en_base/1',\n",
        "}\n",
        "\n",
        "map_model_to_preprocess = {\n",
        "    'bert_en_uncased_L-12_H-768_A-12':\n",
        "        'https://tfhub.dev/tensorflow/bert_en_uncased_preprocess/3',\n",
        "    'bert_en_cased_L-12_H-768_A-12':\n",
        "        'https://tfhub.dev/tensorflow/bert_en_cased_preprocess/3',\n",
        "    'small_bert/bert_en_uncased_L-2_H-128_A-2':\n",
        "        'https://tfhub.dev/tensorflow/bert_en_uncased_preprocess/3',\n",
        "    'small_bert/bert_en_uncased_L-2_H-256_A-4':\n",
        "        'https://tfhub.dev/tensorflow/bert_en_uncased_preprocess/3',\n",
        "    'small_bert/bert_en_uncased_L-2_H-512_A-8':\n",
        "        'https://tfhub.dev/tensorflow/bert_en_uncased_preprocess/3',\n",
        "    'small_bert/bert_en_uncased_L-2_H-768_A-12':\n",
        "        'https://tfhub.dev/tensorflow/bert_en_uncased_preprocess/3',\n",
        "    'small_bert/bert_en_uncased_L-4_H-128_A-2':\n",
        "        'https://tfhub.dev/tensorflow/bert_en_uncased_preprocess/3',\n",
        "    'small_bert/bert_en_uncased_L-4_H-256_A-4':\n",
        "        'https://tfhub.dev/tensorflow/bert_en_uncased_preprocess/3',\n",
        "    'small_bert/bert_en_uncased_L-4_H-512_A-8':\n",
        "        'https://tfhub.dev/tensorflow/bert_en_uncased_preprocess/3',\n",
        "    'small_bert/bert_en_uncased_L-4_H-768_A-12':\n",
        "        'https://tfhub.dev/tensorflow/bert_en_uncased_preprocess/3',\n",
        "    'small_bert/bert_en_uncased_L-6_H-128_A-2':\n",
        "        'https://tfhub.dev/tensorflow/bert_en_uncased_preprocess/3',\n",
        "    'small_bert/bert_en_uncased_L-6_H-256_A-4':\n",
        "        'https://tfhub.dev/tensorflow/bert_en_uncased_preprocess/3',\n",
        "    'small_bert/bert_en_uncased_L-6_H-512_A-8':\n",
        "        'https://tfhub.dev/tensorflow/bert_en_uncased_preprocess/3',\n",
        "    'small_bert/bert_en_uncased_L-6_H-768_A-12':\n",
        "        'https://tfhub.dev/tensorflow/bert_en_uncased_preprocess/3',\n",
        "    'small_bert/bert_en_uncased_L-8_H-128_A-2':\n",
        "        'https://tfhub.dev/tensorflow/bert_en_uncased_preprocess/3',\n",
        "    'small_bert/bert_en_uncased_L-8_H-256_A-4':\n",
        "        'https://tfhub.dev/tensorflow/bert_en_uncased_preprocess/3',\n",
        "    'small_bert/bert_en_uncased_L-8_H-512_A-8':\n",
        "        'https://tfhub.dev/tensorflow/bert_en_uncased_preprocess/3',\n",
        "    'small_bert/bert_en_uncased_L-8_H-768_A-12':\n",
        "        'https://tfhub.dev/tensorflow/bert_en_uncased_preprocess/3',\n",
        "    'small_bert/bert_en_uncased_L-10_H-128_A-2':\n",
        "        'https://tfhub.dev/tensorflow/bert_en_uncased_preprocess/3',\n",
        "    'small_bert/bert_en_uncased_L-10_H-256_A-4':\n",
        "        'https://tfhub.dev/tensorflow/bert_en_uncased_preprocess/3',\n",
        "    'small_bert/bert_en_uncased_L-10_H-512_A-8':\n",
        "        'https://tfhub.dev/tensorflow/bert_en_uncased_preprocess/3',\n",
        "    'small_bert/bert_en_uncased_L-10_H-768_A-12':\n",
        "        'https://tfhub.dev/tensorflow/bert_en_uncased_preprocess/3',\n",
        "    'small_bert/bert_en_uncased_L-12_H-128_A-2':\n",
        "        'https://tfhub.dev/tensorflow/bert_en_uncased_preprocess/3',\n",
        "    'small_bert/bert_en_uncased_L-12_H-256_A-4':\n",
        "        'https://tfhub.dev/tensorflow/bert_en_uncased_preprocess/3',\n",
        "    'small_bert/bert_en_uncased_L-12_H-512_A-8':\n",
        "        'https://tfhub.dev/tensorflow/bert_en_uncased_preprocess/3',\n",
        "    'small_bert/bert_en_uncased_L-12_H-768_A-12':\n",
        "        'https://tfhub.dev/tensorflow/bert_en_uncased_preprocess/3',\n",
        "    'bert_multi_cased_L-12_H-768_A-12':\n",
        "        'https://tfhub.dev/tensorflow/bert_multi_cased_preprocess/3',\n",
        "    'albert_en_base':\n",
        "        'https://tfhub.dev/tensorflow/albert_en_preprocess/3',\n",
        "    'electra_small':\n",
        "        'https://tfhub.dev/tensorflow/bert_en_uncased_preprocess/3',\n",
        "    'electra_base':\n",
        "        'https://tfhub.dev/tensorflow/bert_en_uncased_preprocess/3',\n",
        "    'experts_pubmed':\n",
        "        'https://tfhub.dev/tensorflow/bert_en_uncased_preprocess/3',\n",
        "    'experts_wiki_books':\n",
        "        'https://tfhub.dev/tensorflow/bert_en_uncased_preprocess/3',\n",
        "    'talking-heads_base':\n",
        "        'https://tfhub.dev/tensorflow/bert_en_uncased_preprocess/3',\n",
        "}\n",
        "\n",
        "tfhub_handle_encoder = map_name_to_handle[bert_model_name]\n",
        "tfhub_handle_preprocess = map_model_to_preprocess[bert_model_name]\n",
        "\n",
        "print(f'BERT model selected           : {tfhub_handle_encoder}')\n",
        "print(f'Preprocess model auto-selected: {tfhub_handle_preprocess}')"
      ],
      "execution_count": null,
      "outputs": [
        {
          "output_type": "stream",
          "text": [
            "BERT model selected           : https://tfhub.dev/tensorflow/small_bert/bert_en_uncased_L-4_H-512_A-8/1\n",
            "Preprocess model auto-selected: https://tfhub.dev/tensorflow/bert_en_uncased_preprocess/3\n"
          ],
          "name": "stdout"
        }
      ]
    },
    {
      "cell_type": "code",
      "metadata": {
        "id": "k1jNc4Vfk8R4"
      },
      "source": [
        "def build_classifier_model():\n",
        "  text_input = tf.keras.layers.Input(shape=(), dtype=tf.string, name='text')\n",
        "  preprocessing_layer = hub.KerasLayer(tfhub_handle_preprocess, name='preprocessing')\n",
        "  encoder_inputs = preprocessing_layer(text_input)\n",
        "  encoder = hub.KerasLayer(tfhub_handle_encoder, trainable=True, name='BERT_encoder')\n",
        "  outputs = encoder(encoder_inputs)\n",
        "  net = outputs['pooled_output']\n",
        "  net = tf.keras.layers.Dropout(0.1)(net)\n",
        "  net = tf.keras.layers.Dense(N_CLASSES, activation=None, name='classifier')(net)\n",
        "  return tf.keras.Model(text_input, net)"
      ],
      "execution_count": null,
      "outputs": []
    },
    {
      "cell_type": "code",
      "metadata": {
        "colab": {
          "base_uri": "https://localhost:8080/"
        },
        "id": "UsgJb9dwlEEk",
        "outputId": "6975cfe7-b838-4635-869d-03c45e5081ce"
      },
      "source": [
        "text_test = ['this is such an amazing movie!']\n",
        "classifier_model = build_classifier_model()\n",
        "bert_raw_result = classifier_model(tf.constant(text_test))\n",
        "print(tf.sigmoid(bert_raw_result))\n",
        "classifier_model.summary()"
      ],
      "execution_count": null,
      "outputs": [
        {
          "output_type": "stream",
          "text": [
            "tf.Tensor([[0.49582693 0.5068373  0.631283   ... 0.5430101  0.45434874 0.47789338]], shape=(1, 11014), dtype=float32)\n",
            "Model: \"model_3\"\n",
            "__________________________________________________________________________________________________\n",
            "Layer (type)                    Output Shape         Param #     Connected to                     \n",
            "==================================================================================================\n",
            "text (InputLayer)               [(None,)]            0                                            \n",
            "__________________________________________________________________________________________________\n",
            "preprocessing (KerasLayer)      {'input_type_ids': ( 0           text[0][0]                       \n",
            "__________________________________________________________________________________________________\n",
            "BERT_encoder (KerasLayer)       {'encoder_outputs':  28763649    preprocessing[0][0]              \n",
            "                                                                 preprocessing[0][1]              \n",
            "                                                                 preprocessing[0][2]              \n",
            "__________________________________________________________________________________________________\n",
            "dropout_2 (Dropout)             (None, 512)          0           BERT_encoder[0][5]               \n",
            "__________________________________________________________________________________________________\n",
            "classifier (Dense)              (None, 11014)        5650182     dropout_2[0][0]                  \n",
            "==================================================================================================\n",
            "Total params: 34,413,831\n",
            "Trainable params: 34,413,830\n",
            "Non-trainable params: 1\n",
            "__________________________________________________________________________________________________\n"
          ],
          "name": "stdout"
        }
      ]
    },
    {
      "cell_type": "code",
      "metadata": {
        "id": "XUwD8zAElOFY"
      },
      "source": [
        "loss = tf.keras.losses.SparseCategoricalCrossentropy(from_logits=True)\n",
        "metrics = tf.metrics.SparseCategoricalAccuracy()"
      ],
      "execution_count": null,
      "outputs": []
    },
    {
      "cell_type": "code",
      "metadata": {
        "id": "MyDGsRl6lWvD"
      },
      "source": [
        "epochs = 200\n",
        "steps_per_epoch = tf.data.experimental.cardinality(train_dataset).numpy()\n",
        "num_train_steps = steps_per_epoch * epochs\n",
        "num_warmup_steps = int(0.1*num_train_steps)\n",
        "\n",
        "init_lr = 3e-5\n",
        "optimizer = optimization.create_optimizer(init_lr=init_lr,\n",
        "                      num_train_steps=num_train_steps,\n",
        "                      num_warmup_steps=num_warmup_steps,\n",
        "                      optimizer_type='adamw')"
      ],
      "execution_count": null,
      "outputs": []
    },
    {
      "cell_type": "code",
      "metadata": {
        "id": "5VgsTA4Tlapi"
      },
      "source": [
        "classifier_model.compile(optimizer = optimizer, loss = loss, metrics = metrics)"
      ],
      "execution_count": null,
      "outputs": []
    },
    {
      "cell_type": "code",
      "metadata": {
        "colab": {
          "base_uri": "https://localhost:8080/"
        },
        "id": "My8kSMFvlc8w",
        "outputId": "5292355d-aeac-4e22-9929-d41056fa56e0"
      },
      "source": [
        "print(f'Training model with {tfhub_handle_encoder}')\n",
        "history = classifier_model.fit(x = train_dataset, \n",
        "                validation_data = val_dataset, \n",
        "                epochs = epochs)"
      ],
      "execution_count": null,
      "outputs": [
        {
          "output_type": "stream",
          "text": [
            "Training model with https://tfhub.dev/tensorflow/small_bert/bert_en_uncased_L-4_H-512_A-8/1\n",
            "Epoch 1/200\n",
            "718/718 [==============================] - 145s 198ms/step - loss: 9.3249 - sparse_categorical_accuracy: 8.3647e-05 - val_loss: 9.3130 - val_sparse_categorical_accuracy: 1.7694e-04\n",
            "Epoch 2/200\n",
            "718/718 [==============================] - 140s 195ms/step - loss: 9.3030 - sparse_categorical_accuracy: 2.1789e-04 - val_loss: 9.2975 - val_sparse_categorical_accuracy: 3.5389e-04\n",
            "Epoch 3/200\n",
            "718/718 [==============================] - 140s 196ms/step - loss: 9.2748 - sparse_categorical_accuracy: 1.7431e-04 - val_loss: 9.2741 - val_sparse_categorical_accuracy: 0.0018\n",
            "Epoch 4/200\n",
            "718/718 [==============================] - 140s 195ms/step - loss: 9.2345 - sparse_categorical_accuracy: 0.0015 - val_loss: 9.2397 - val_sparse_categorical_accuracy: 0.0076\n",
            "Epoch 5/200\n",
            "718/718 [==============================] - 140s 194ms/step - loss: 9.1777 - sparse_categorical_accuracy: 0.0078 - val_loss: 9.1886 - val_sparse_categorical_accuracy: 0.0154\n",
            "Epoch 6/200\n",
            "718/718 [==============================] - 140s 195ms/step - loss: 9.1006 - sparse_categorical_accuracy: 0.0143 - val_loss: 9.1223 - val_sparse_categorical_accuracy: 0.0184\n",
            "Epoch 7/200\n",
            "718/718 [==============================] - 139s 194ms/step - loss: 9.0068 - sparse_categorical_accuracy: 0.0181 - val_loss: 9.0362 - val_sparse_categorical_accuracy: 0.0218\n",
            "Epoch 8/200\n",
            "718/718 [==============================] - 139s 194ms/step - loss: 8.8924 - sparse_categorical_accuracy: 0.0208 - val_loss: 8.9379 - val_sparse_categorical_accuracy: 0.0221\n",
            "Epoch 9/200\n",
            "718/718 [==============================] - 140s 195ms/step - loss: 8.7618 - sparse_categorical_accuracy: 0.0224 - val_loss: 8.8243 - val_sparse_categorical_accuracy: 0.0249\n",
            "Epoch 10/200\n",
            "718/718 [==============================] - 140s 195ms/step - loss: 8.6171 - sparse_categorical_accuracy: 0.0251 - val_loss: 8.7012 - val_sparse_categorical_accuracy: 0.0287\n",
            "Epoch 11/200\n",
            "718/718 [==============================] - 140s 195ms/step - loss: 8.4556 - sparse_categorical_accuracy: 0.0293 - val_loss: 8.5597 - val_sparse_categorical_accuracy: 0.0306\n",
            "Epoch 12/200\n",
            "718/718 [==============================] - 139s 194ms/step - loss: 8.2813 - sparse_categorical_accuracy: 0.0315 - val_loss: 8.4063 - val_sparse_categorical_accuracy: 0.0349\n",
            "Epoch 13/200\n",
            "718/718 [==============================] - 140s 195ms/step - loss: 8.0963 - sparse_categorical_accuracy: 0.0350 - val_loss: 8.2587 - val_sparse_categorical_accuracy: 0.0370\n",
            "Epoch 14/200\n",
            "718/718 [==============================] - 139s 194ms/step - loss: 7.8990 - sparse_categorical_accuracy: 0.0404 - val_loss: 8.0854 - val_sparse_categorical_accuracy: 0.0464\n",
            "Epoch 15/200\n",
            "718/718 [==============================] - 138s 193ms/step - loss: 7.6921 - sparse_categorical_accuracy: 0.0483 - val_loss: 7.9245 - val_sparse_categorical_accuracy: 0.0517\n",
            "Epoch 16/200\n",
            "718/718 [==============================] - 138s 193ms/step - loss: 7.4817 - sparse_categorical_accuracy: 0.0592 - val_loss: 7.7532 - val_sparse_categorical_accuracy: 0.0609\n",
            "Epoch 17/200\n",
            "718/718 [==============================] - 138s 192ms/step - loss: 7.2555 - sparse_categorical_accuracy: 0.0719 - val_loss: 7.5788 - val_sparse_categorical_accuracy: 0.0711\n",
            "Epoch 18/200\n",
            "718/718 [==============================] - 139s 193ms/step - loss: 7.0238 - sparse_categorical_accuracy: 0.0910 - val_loss: 7.3906 - val_sparse_categorical_accuracy: 0.0887\n",
            "Epoch 19/200\n",
            "718/718 [==============================] - 139s 194ms/step - loss: 6.7846 - sparse_categorical_accuracy: 0.1124 - val_loss: 7.2163 - val_sparse_categorical_accuracy: 0.1019\n",
            "Epoch 20/200\n",
            "718/718 [==============================] - 139s 194ms/step - loss: 6.5372 - sparse_categorical_accuracy: 0.1360 - val_loss: 7.0174 - val_sparse_categorical_accuracy: 0.1289\n",
            "Epoch 21/200\n",
            "718/718 [==============================] - 141s 197ms/step - loss: 6.2797 - sparse_categorical_accuracy: 0.1620 - val_loss: 6.8373 - val_sparse_categorical_accuracy: 0.1482\n",
            "Epoch 22/200\n",
            "718/718 [==============================] - 140s 195ms/step - loss: 6.0482 - sparse_categorical_accuracy: 0.1951 - val_loss: 6.6768 - val_sparse_categorical_accuracy: 0.1642\n",
            "Epoch 23/200\n",
            "718/718 [==============================] - 141s 196ms/step - loss: 5.8212 - sparse_categorical_accuracy: 0.2236 - val_loss: 6.5213 - val_sparse_categorical_accuracy: 0.1796\n",
            "Epoch 24/200\n",
            "718/718 [==============================] - 142s 198ms/step - loss: 5.6000 - sparse_categorical_accuracy: 0.2563 - val_loss: 6.3812 - val_sparse_categorical_accuracy: 0.1891\n",
            "Epoch 25/200\n",
            "718/718 [==============================] - 141s 196ms/step - loss: 5.3868 - sparse_categorical_accuracy: 0.2867 - val_loss: 6.2211 - val_sparse_categorical_accuracy: 0.2109\n",
            "Epoch 26/200\n",
            "718/718 [==============================] - 140s 195ms/step - loss: 5.1781 - sparse_categorical_accuracy: 0.3207 - val_loss: 6.0723 - val_sparse_categorical_accuracy: 0.2286\n",
            "Epoch 27/200\n",
            "718/718 [==============================] - 140s 195ms/step - loss: 4.9749 - sparse_categorical_accuracy: 0.3516 - val_loss: 5.9430 - val_sparse_categorical_accuracy: 0.2383\n",
            "Epoch 28/200\n",
            "718/718 [==============================] - 139s 193ms/step - loss: 4.7753 - sparse_categorical_accuracy: 0.3842 - val_loss: 5.8044 - val_sparse_categorical_accuracy: 0.2554\n",
            "Epoch 29/200\n",
            "718/718 [==============================] - 140s 196ms/step - loss: 4.5845 - sparse_categorical_accuracy: 0.4135 - val_loss: 5.6716 - val_sparse_categorical_accuracy: 0.2693\n",
            "Epoch 30/200\n",
            "718/718 [==============================] - 140s 195ms/step - loss: 4.3990 - sparse_categorical_accuracy: 0.4407 - val_loss: 5.5535 - val_sparse_categorical_accuracy: 0.2789\n",
            "Epoch 31/200\n",
            "718/718 [==============================] - 140s 195ms/step - loss: 4.2195 - sparse_categorical_accuracy: 0.4729 - val_loss: 5.4413 - val_sparse_categorical_accuracy: 0.2917\n",
            "Epoch 32/200\n",
            "718/718 [==============================] - 140s 195ms/step - loss: 4.0457 - sparse_categorical_accuracy: 0.4975 - val_loss: 5.3223 - val_sparse_categorical_accuracy: 0.3010\n",
            "Epoch 33/200\n",
            "718/718 [==============================] - 140s 194ms/step - loss: 3.8763 - sparse_categorical_accuracy: 0.5242 - val_loss: 5.2153 - val_sparse_categorical_accuracy: 0.3127\n",
            "Epoch 34/200\n",
            "718/718 [==============================] - 140s 195ms/step - loss: 3.7115 - sparse_categorical_accuracy: 0.5503 - val_loss: 5.1068 - val_sparse_categorical_accuracy: 0.3277\n",
            "Epoch 35/200\n",
            "718/718 [==============================] - 139s 194ms/step - loss: 3.5560 - sparse_categorical_accuracy: 0.5763 - val_loss: 5.0051 - val_sparse_categorical_accuracy: 0.3369\n",
            "Epoch 36/200\n",
            "718/718 [==============================] - 140s 195ms/step - loss: 3.4051 - sparse_categorical_accuracy: 0.5982 - val_loss: 4.9097 - val_sparse_categorical_accuracy: 0.3455\n",
            "Epoch 37/200\n",
            "718/718 [==============================] - 141s 196ms/step - loss: 3.2583 - sparse_categorical_accuracy: 0.6174 - val_loss: 4.8143 - val_sparse_categorical_accuracy: 0.3565\n",
            "Epoch 38/200\n",
            "718/718 [==============================] - 141s 197ms/step - loss: 3.1163 - sparse_categorical_accuracy: 0.6406 - val_loss: 4.7196 - val_sparse_categorical_accuracy: 0.3653\n",
            "Epoch 39/200\n",
            "718/718 [==============================] - 141s 197ms/step - loss: 2.9809 - sparse_categorical_accuracy: 0.6601 - val_loss: 4.6440 - val_sparse_categorical_accuracy: 0.3732\n",
            "Epoch 40/200\n",
            "718/718 [==============================] - 143s 199ms/step - loss: 2.8486 - sparse_categorical_accuracy: 0.6844 - val_loss: 4.5487 - val_sparse_categorical_accuracy: 0.3856\n",
            "Epoch 41/200\n",
            "718/718 [==============================] - 142s 198ms/step - loss: 2.7233 - sparse_categorical_accuracy: 0.6983 - val_loss: 4.4686 - val_sparse_categorical_accuracy: 0.3922\n",
            "Epoch 42/200\n",
            "718/718 [==============================] - 142s 197ms/step - loss: 2.6034 - sparse_categorical_accuracy: 0.7161 - val_loss: 4.3982 - val_sparse_categorical_accuracy: 0.3972\n",
            "Epoch 43/200\n",
            "718/718 [==============================] - 141s 197ms/step - loss: 2.4856 - sparse_categorical_accuracy: 0.7349 - val_loss: 4.3165 - val_sparse_categorical_accuracy: 0.4090\n",
            "Epoch 44/200\n",
            "718/718 [==============================] - 141s 196ms/step - loss: 2.3730 - sparse_categorical_accuracy: 0.7515 - val_loss: 4.2451 - val_sparse_categorical_accuracy: 0.4171\n",
            "Epoch 45/200\n",
            "718/718 [==============================] - 141s 197ms/step - loss: 2.2679 - sparse_categorical_accuracy: 0.7676 - val_loss: 4.1731 - val_sparse_categorical_accuracy: 0.4247\n",
            "Epoch 46/200\n",
            "718/718 [==============================] - 141s 196ms/step - loss: 2.1615 - sparse_categorical_accuracy: 0.7838 - val_loss: 4.1078 - val_sparse_categorical_accuracy: 0.4333\n",
            "Epoch 47/200\n",
            "718/718 [==============================] - 142s 198ms/step - loss: 2.0628 - sparse_categorical_accuracy: 0.7982 - val_loss: 4.0486 - val_sparse_categorical_accuracy: 0.4379\n",
            "Epoch 48/200\n",
            "718/718 [==============================] - 141s 196ms/step - loss: 1.9670 - sparse_categorical_accuracy: 0.8128 - val_loss: 3.9892 - val_sparse_categorical_accuracy: 0.4417\n",
            "Epoch 49/200\n",
            "718/718 [==============================] - 141s 196ms/step - loss: 1.8763 - sparse_categorical_accuracy: 0.8276 - val_loss: 3.9179 - val_sparse_categorical_accuracy: 0.4559\n",
            "Epoch 50/200\n",
            "718/718 [==============================] - 141s 196ms/step - loss: 1.7855 - sparse_categorical_accuracy: 0.8397 - val_loss: 3.8611 - val_sparse_categorical_accuracy: 0.4615\n",
            "Epoch 51/200\n",
            "718/718 [==============================] - 141s 197ms/step - loss: 1.7050 - sparse_categorical_accuracy: 0.8522 - val_loss: 3.7950 - val_sparse_categorical_accuracy: 0.4684\n",
            "Epoch 52/200\n",
            "718/718 [==============================] - 142s 198ms/step - loss: 1.6214 - sparse_categorical_accuracy: 0.8634 - val_loss: 3.7440 - val_sparse_categorical_accuracy: 0.4747\n",
            "Epoch 53/200\n",
            "718/718 [==============================] - 141s 196ms/step - loss: 1.5457 - sparse_categorical_accuracy: 0.8748 - val_loss: 3.6820 - val_sparse_categorical_accuracy: 0.4826\n",
            "Epoch 54/200\n",
            "718/718 [==============================] - 141s 196ms/step - loss: 1.4693 - sparse_categorical_accuracy: 0.8843 - val_loss: 3.6333 - val_sparse_categorical_accuracy: 0.4901\n",
            "Epoch 55/200\n",
            "718/718 [==============================] - 141s 196ms/step - loss: 1.4017 - sparse_categorical_accuracy: 0.8949 - val_loss: 3.5794 - val_sparse_categorical_accuracy: 0.4955\n",
            "Epoch 56/200\n",
            "718/718 [==============================] - 141s 196ms/step - loss: 1.3332 - sparse_categorical_accuracy: 0.9014 - val_loss: 3.5327 - val_sparse_categorical_accuracy: 0.5002\n",
            "Epoch 57/200\n",
            "718/718 [==============================] - 141s 196ms/step - loss: 1.2663 - sparse_categorical_accuracy: 0.9097 - val_loss: 3.4846 - val_sparse_categorical_accuracy: 0.5064\n",
            "Epoch 58/200\n",
            "718/718 [==============================] - 140s 195ms/step - loss: 1.2053 - sparse_categorical_accuracy: 0.9154 - val_loss: 3.4319 - val_sparse_categorical_accuracy: 0.5109\n",
            "Epoch 59/200\n",
            "718/718 [==============================] - 140s 195ms/step - loss: 1.1471 - sparse_categorical_accuracy: 0.9236 - val_loss: 3.3820 - val_sparse_categorical_accuracy: 0.5194\n",
            "Epoch 60/200\n",
            "718/718 [==============================] - 139s 194ms/step - loss: 1.0897 - sparse_categorical_accuracy: 0.9294 - val_loss: 3.3441 - val_sparse_categorical_accuracy: 0.5213\n",
            "Epoch 61/200\n",
            "718/718 [==============================] - 139s 194ms/step - loss: 1.0377 - sparse_categorical_accuracy: 0.9354 - val_loss: 3.2959 - val_sparse_categorical_accuracy: 0.5296\n",
            "Epoch 62/200\n",
            "718/718 [==============================] - 141s 197ms/step - loss: 0.9848 - sparse_categorical_accuracy: 0.9403 - val_loss: 3.2559 - val_sparse_categorical_accuracy: 0.5334\n",
            "Epoch 63/200\n",
            "718/718 [==============================] - 140s 195ms/step - loss: 0.9351 - sparse_categorical_accuracy: 0.9455 - val_loss: 3.2144 - val_sparse_categorical_accuracy: 0.5367\n",
            "Epoch 64/200\n",
            "718/718 [==============================] - 139s 194ms/step - loss: 0.8872 - sparse_categorical_accuracy: 0.9504 - val_loss: 3.1746 - val_sparse_categorical_accuracy: 0.5422\n",
            "Epoch 65/200\n",
            "718/718 [==============================] - 139s 194ms/step - loss: 0.8416 - sparse_categorical_accuracy: 0.9543 - val_loss: 3.1334 - val_sparse_categorical_accuracy: 0.5460\n",
            "Epoch 66/200\n",
            "718/718 [==============================] - 139s 194ms/step - loss: 0.8001 - sparse_categorical_accuracy: 0.9570 - val_loss: 3.0979 - val_sparse_categorical_accuracy: 0.5497\n",
            "Epoch 67/200\n",
            "718/718 [==============================] - 140s 195ms/step - loss: 0.7568 - sparse_categorical_accuracy: 0.9626 - val_loss: 3.0578 - val_sparse_categorical_accuracy: 0.5533\n",
            "Epoch 68/200\n",
            "718/718 [==============================] - 141s 196ms/step - loss: 0.7178 - sparse_categorical_accuracy: 0.9636 - val_loss: 3.0204 - val_sparse_categorical_accuracy: 0.5591\n",
            "Epoch 69/200\n",
            "718/718 [==============================] - 141s 196ms/step - loss: 0.6795 - sparse_categorical_accuracy: 0.9670 - val_loss: 2.9887 - val_sparse_categorical_accuracy: 0.5618\n",
            "Epoch 70/200\n",
            "718/718 [==============================] - 142s 198ms/step - loss: 0.6429 - sparse_categorical_accuracy: 0.9707 - val_loss: 2.9477 - val_sparse_categorical_accuracy: 0.5662\n",
            "Epoch 71/200\n",
            "718/718 [==============================] - 141s 197ms/step - loss: 0.6106 - sparse_categorical_accuracy: 0.9727 - val_loss: 2.9185 - val_sparse_categorical_accuracy: 0.5687\n",
            "Epoch 72/200\n",
            "718/718 [==============================] - 139s 194ms/step - loss: 0.5768 - sparse_categorical_accuracy: 0.9756 - val_loss: 2.8925 - val_sparse_categorical_accuracy: 0.5736\n",
            "Epoch 73/200\n",
            "718/718 [==============================] - 139s 193ms/step - loss: 0.5449 - sparse_categorical_accuracy: 0.9769 - val_loss: 2.8552 - val_sparse_categorical_accuracy: 0.5778\n",
            "Epoch 74/200\n",
            "718/718 [==============================] - 140s 195ms/step - loss: 0.5157 - sparse_categorical_accuracy: 0.9787 - val_loss: 2.8283 - val_sparse_categorical_accuracy: 0.5816\n",
            "Epoch 75/200\n",
            "718/718 [==============================] - 139s 194ms/step - loss: 0.4880 - sparse_categorical_accuracy: 0.9809 - val_loss: 2.7997 - val_sparse_categorical_accuracy: 0.5832\n",
            "Epoch 76/200\n",
            "718/718 [==============================] - 139s 193ms/step - loss: 0.4613 - sparse_categorical_accuracy: 0.9829 - val_loss: 2.7718 - val_sparse_categorical_accuracy: 0.5872\n",
            "Epoch 77/200\n",
            "718/718 [==============================] - 141s 196ms/step - loss: 0.4338 - sparse_categorical_accuracy: 0.9841 - val_loss: 2.7477 - val_sparse_categorical_accuracy: 0.5897\n",
            "Epoch 78/200\n",
            "718/718 [==============================] - 139s 194ms/step - loss: 0.4115 - sparse_categorical_accuracy: 0.9852 - val_loss: 2.7205 - val_sparse_categorical_accuracy: 0.5929\n",
            "Epoch 79/200\n",
            "718/718 [==============================] - 139s 194ms/step - loss: 0.3874 - sparse_categorical_accuracy: 0.9855 - val_loss: 2.6965 - val_sparse_categorical_accuracy: 0.5955\n",
            "Epoch 80/200\n",
            "718/718 [==============================] - 139s 194ms/step - loss: 0.3665 - sparse_categorical_accuracy: 0.9868 - val_loss: 2.6786 - val_sparse_categorical_accuracy: 0.5976\n",
            "Epoch 81/200\n",
            "718/718 [==============================] - 138s 193ms/step - loss: 0.3461 - sparse_categorical_accuracy: 0.9880 - val_loss: 2.6561 - val_sparse_categorical_accuracy: 0.5984\n",
            "Epoch 82/200\n",
            "718/718 [==============================] - 138s 192ms/step - loss: 0.3276 - sparse_categorical_accuracy: 0.9885 - val_loss: 2.6319 - val_sparse_categorical_accuracy: 0.6007\n",
            "Epoch 83/200\n",
            "718/718 [==============================] - 138s 193ms/step - loss: 0.3100 - sparse_categorical_accuracy: 0.9898 - val_loss: 2.6115 - val_sparse_categorical_accuracy: 0.6009\n",
            "Epoch 84/200\n",
            "718/718 [==============================] - 138s 193ms/step - loss: 0.2913 - sparse_categorical_accuracy: 0.9896 - val_loss: 2.5900 - val_sparse_categorical_accuracy: 0.6056\n",
            "Epoch 85/200\n",
            "718/718 [==============================] - 138s 193ms/step - loss: 0.2751 - sparse_categorical_accuracy: 0.9901 - val_loss: 2.5676 - val_sparse_categorical_accuracy: 0.6069\n",
            "Epoch 86/200\n",
            "718/718 [==============================] - 138s 193ms/step - loss: 0.2597 - sparse_categorical_accuracy: 0.9912 - val_loss: 2.5560 - val_sparse_categorical_accuracy: 0.6076\n",
            "Epoch 87/200\n",
            "718/718 [==============================] - 139s 193ms/step - loss: 0.2452 - sparse_categorical_accuracy: 0.9915 - val_loss: 2.5406 - val_sparse_categorical_accuracy: 0.6081\n",
            "Epoch 88/200\n",
            "718/718 [==============================] - 139s 194ms/step - loss: 0.2313 - sparse_categorical_accuracy: 0.9927 - val_loss: 2.5201 - val_sparse_categorical_accuracy: 0.6130\n",
            "Epoch 89/200\n",
            "718/718 [==============================] - 139s 194ms/step - loss: 0.2196 - sparse_categorical_accuracy: 0.9923 - val_loss: 2.5100 - val_sparse_categorical_accuracy: 0.6118\n",
            "Epoch 90/200\n",
            "718/718 [==============================] - 140s 194ms/step - loss: 0.2072 - sparse_categorical_accuracy: 0.9926 - val_loss: 2.4900 - val_sparse_categorical_accuracy: 0.6165\n",
            "Epoch 91/200\n",
            "718/718 [==============================] - 140s 194ms/step - loss: 0.1961 - sparse_categorical_accuracy: 0.9929 - val_loss: 2.4816 - val_sparse_categorical_accuracy: 0.6162\n",
            "Epoch 92/200\n",
            "718/718 [==============================] - 139s 193ms/step - loss: 0.1859 - sparse_categorical_accuracy: 0.9924 - val_loss: 2.4687 - val_sparse_categorical_accuracy: 0.6182\n",
            "Epoch 93/200\n",
            "718/718 [==============================] - 140s 195ms/step - loss: 0.1764 - sparse_categorical_accuracy: 0.9932 - val_loss: 2.4492 - val_sparse_categorical_accuracy: 0.6186\n",
            "Epoch 94/200\n",
            "718/718 [==============================] - 141s 196ms/step - loss: 0.1667 - sparse_categorical_accuracy: 0.9936 - val_loss: 2.4423 - val_sparse_categorical_accuracy: 0.6206\n",
            "Epoch 95/200\n",
            "718/718 [==============================] - 140s 196ms/step - loss: 0.1575 - sparse_categorical_accuracy: 0.9936 - val_loss: 2.4291 - val_sparse_categorical_accuracy: 0.6218\n",
            "Epoch 96/200\n",
            "718/718 [==============================] - 140s 195ms/step - loss: 0.1494 - sparse_categorical_accuracy: 0.9940 - val_loss: 2.4231 - val_sparse_categorical_accuracy: 0.6202\n",
            "Epoch 97/200\n",
            "718/718 [==============================] - 140s 195ms/step - loss: 0.1427 - sparse_categorical_accuracy: 0.9938 - val_loss: 2.4072 - val_sparse_categorical_accuracy: 0.6214\n",
            "Epoch 98/200\n",
            "718/718 [==============================] - 139s 194ms/step - loss: 0.1351 - sparse_categorical_accuracy: 0.9942 - val_loss: 2.3995 - val_sparse_categorical_accuracy: 0.6217\n",
            "Epoch 99/200\n",
            "718/718 [==============================] - 139s 194ms/step - loss: 0.1284 - sparse_categorical_accuracy: 0.9944 - val_loss: 2.3869 - val_sparse_categorical_accuracy: 0.6234\n",
            "Epoch 100/200\n",
            "718/718 [==============================] - 139s 194ms/step - loss: 0.1220 - sparse_categorical_accuracy: 0.9946 - val_loss: 2.3793 - val_sparse_categorical_accuracy: 0.6247\n",
            "Epoch 101/200\n",
            "718/718 [==============================] - 141s 197ms/step - loss: 0.1158 - sparse_categorical_accuracy: 0.9947 - val_loss: 2.3645 - val_sparse_categorical_accuracy: 0.6259\n",
            "Epoch 102/200\n",
            "718/718 [==============================] - 142s 198ms/step - loss: 0.1101 - sparse_categorical_accuracy: 0.9949 - val_loss: 2.3664 - val_sparse_categorical_accuracy: 0.6251\n",
            "Epoch 103/200\n",
            "718/718 [==============================] - 142s 198ms/step - loss: 0.1056 - sparse_categorical_accuracy: 0.9949 - val_loss: 2.3576 - val_sparse_categorical_accuracy: 0.6270\n",
            "Epoch 104/200\n",
            "718/718 [==============================] - 143s 199ms/step - loss: 0.1005 - sparse_categorical_accuracy: 0.9949 - val_loss: 2.3541 - val_sparse_categorical_accuracy: 0.6251\n",
            "Epoch 105/200\n",
            "718/718 [==============================] - 142s 198ms/step - loss: 0.0958 - sparse_categorical_accuracy: 0.9950 - val_loss: 2.3463 - val_sparse_categorical_accuracy: 0.6274\n",
            "Epoch 106/200\n",
            "718/718 [==============================] - 142s 198ms/step - loss: 0.0905 - sparse_categorical_accuracy: 0.9953 - val_loss: 2.3367 - val_sparse_categorical_accuracy: 0.6275\n",
            "Epoch 107/200\n",
            "718/718 [==============================] - 142s 198ms/step - loss: 0.0871 - sparse_categorical_accuracy: 0.9950 - val_loss: 2.3300 - val_sparse_categorical_accuracy: 0.6311\n",
            "Epoch 108/200\n",
            "718/718 [==============================] - 142s 198ms/step - loss: 0.0826 - sparse_categorical_accuracy: 0.9952 - val_loss: 2.3200 - val_sparse_categorical_accuracy: 0.6294\n",
            "Epoch 109/200\n",
            "718/718 [==============================] - 142s 198ms/step - loss: 0.0790 - sparse_categorical_accuracy: 0.9953 - val_loss: 2.3155 - val_sparse_categorical_accuracy: 0.6311\n",
            "Epoch 110/200\n",
            "718/718 [==============================] - 143s 199ms/step - loss: 0.0759 - sparse_categorical_accuracy: 0.9955 - val_loss: 2.3164 - val_sparse_categorical_accuracy: 0.6319\n",
            "Epoch 111/200\n",
            "718/718 [==============================] - 142s 198ms/step - loss: 0.0724 - sparse_categorical_accuracy: 0.9955 - val_loss: 2.3123 - val_sparse_categorical_accuracy: 0.6297\n",
            "Epoch 112/200\n",
            "718/718 [==============================] - 142s 198ms/step - loss: 0.0693 - sparse_categorical_accuracy: 0.9957 - val_loss: 2.3038 - val_sparse_categorical_accuracy: 0.6326\n",
            "Epoch 113/200\n",
            "718/718 [==============================] - 142s 198ms/step - loss: 0.0667 - sparse_categorical_accuracy: 0.9961 - val_loss: 2.3002 - val_sparse_categorical_accuracy: 0.6325\n",
            "Epoch 114/200\n",
            "718/718 [==============================] - 142s 198ms/step - loss: 0.0634 - sparse_categorical_accuracy: 0.9956 - val_loss: 2.2979 - val_sparse_categorical_accuracy: 0.6317\n",
            "Epoch 115/200\n",
            "718/718 [==============================] - 142s 198ms/step - loss: 0.0609 - sparse_categorical_accuracy: 0.9957 - val_loss: 2.2940 - val_sparse_categorical_accuracy: 0.6319\n",
            "Epoch 116/200\n",
            "718/718 [==============================] - 142s 198ms/step - loss: 0.0585 - sparse_categorical_accuracy: 0.9959 - val_loss: 2.2838 - val_sparse_categorical_accuracy: 0.6337\n",
            "Epoch 117/200\n",
            "718/718 [==============================] - 142s 198ms/step - loss: 0.0562 - sparse_categorical_accuracy: 0.9958 - val_loss: 2.2816 - val_sparse_categorical_accuracy: 0.6335\n",
            "Epoch 118/200\n",
            "718/718 [==============================] - 142s 198ms/step - loss: 0.0541 - sparse_categorical_accuracy: 0.9959 - val_loss: 2.2794 - val_sparse_categorical_accuracy: 0.6328\n",
            "Epoch 119/200\n",
            "718/718 [==============================] - 141s 197ms/step - loss: 0.0520 - sparse_categorical_accuracy: 0.9957 - val_loss: 2.2715 - val_sparse_categorical_accuracy: 0.6335\n",
            "Epoch 120/200\n",
            "718/718 [==============================] - 141s 197ms/step - loss: 0.0499 - sparse_categorical_accuracy: 0.9962 - val_loss: 2.2723 - val_sparse_categorical_accuracy: 0.6327\n",
            "Epoch 121/200\n",
            "718/718 [==============================] - 141s 197ms/step - loss: 0.0480 - sparse_categorical_accuracy: 0.9961 - val_loss: 2.2736 - val_sparse_categorical_accuracy: 0.6323\n",
            "Epoch 122/200\n",
            "718/718 [==============================] - 141s 197ms/step - loss: 0.0464 - sparse_categorical_accuracy: 0.9961 - val_loss: 2.2616 - val_sparse_categorical_accuracy: 0.6341\n",
            "Epoch 123/200\n",
            "718/718 [==============================] - 141s 197ms/step - loss: 0.0450 - sparse_categorical_accuracy: 0.9966 - val_loss: 2.2627 - val_sparse_categorical_accuracy: 0.6343\n",
            "Epoch 124/200\n",
            "718/718 [==============================] - 141s 197ms/step - loss: 0.0432 - sparse_categorical_accuracy: 0.9961 - val_loss: 2.2541 - val_sparse_categorical_accuracy: 0.6365\n",
            "Epoch 125/200\n",
            "718/718 [==============================] - 141s 197ms/step - loss: 0.0412 - sparse_categorical_accuracy: 0.9965 - val_loss: 2.2539 - val_sparse_categorical_accuracy: 0.6363\n",
            "Epoch 126/200\n",
            "718/718 [==============================] - 142s 197ms/step - loss: 0.0403 - sparse_categorical_accuracy: 0.9961 - val_loss: 2.2531 - val_sparse_categorical_accuracy: 0.6364\n",
            "Epoch 127/200\n",
            "718/718 [==============================] - 142s 198ms/step - loss: 0.0389 - sparse_categorical_accuracy: 0.9964 - val_loss: 2.2506 - val_sparse_categorical_accuracy: 0.6356\n",
            "Epoch 128/200\n",
            "718/718 [==============================] - 142s 198ms/step - loss: 0.0378 - sparse_categorical_accuracy: 0.9966 - val_loss: 2.2502 - val_sparse_categorical_accuracy: 0.6361\n",
            "Epoch 129/200\n",
            "718/718 [==============================] - 141s 197ms/step - loss: 0.0363 - sparse_categorical_accuracy: 0.9962 - val_loss: 2.2463 - val_sparse_categorical_accuracy: 0.6358\n",
            "Epoch 130/200\n",
            "718/718 [==============================] - 141s 197ms/step - loss: 0.0348 - sparse_categorical_accuracy: 0.9966 - val_loss: 2.2434 - val_sparse_categorical_accuracy: 0.6377\n",
            "Epoch 131/200\n",
            "718/718 [==============================] - 141s 197ms/step - loss: 0.0340 - sparse_categorical_accuracy: 0.9965 - val_loss: 2.2343 - val_sparse_categorical_accuracy: 0.6381\n",
            "Epoch 132/200\n",
            "718/718 [==============================] - 141s 197ms/step - loss: 0.0330 - sparse_categorical_accuracy: 0.9963 - val_loss: 2.2422 - val_sparse_categorical_accuracy: 0.6371\n",
            "Epoch 133/200\n",
            "718/718 [==============================] - 141s 196ms/step - loss: 0.0322 - sparse_categorical_accuracy: 0.9962 - val_loss: 2.2394 - val_sparse_categorical_accuracy: 0.6389\n",
            "Epoch 134/200\n",
            "718/718 [==============================] - 141s 196ms/step - loss: 0.0311 - sparse_categorical_accuracy: 0.9968 - val_loss: 2.2340 - val_sparse_categorical_accuracy: 0.6398\n",
            "Epoch 135/200\n",
            "718/718 [==============================] - 141s 197ms/step - loss: 0.0302 - sparse_categorical_accuracy: 0.9968 - val_loss: 2.2395 - val_sparse_categorical_accuracy: 0.6374\n",
            "Epoch 136/200\n",
            "718/718 [==============================] - 141s 196ms/step - loss: 0.0292 - sparse_categorical_accuracy: 0.9967 - val_loss: 2.2350 - val_sparse_categorical_accuracy: 0.6394\n",
            "Epoch 137/200\n",
            "718/718 [==============================] - 141s 196ms/step - loss: 0.0284 - sparse_categorical_accuracy: 0.9967 - val_loss: 2.2332 - val_sparse_categorical_accuracy: 0.6387\n",
            "Epoch 138/200\n",
            "718/718 [==============================] - 141s 196ms/step - loss: 0.0280 - sparse_categorical_accuracy: 0.9964 - val_loss: 2.2345 - val_sparse_categorical_accuracy: 0.6381\n",
            "Epoch 139/200\n",
            "718/718 [==============================] - 141s 196ms/step - loss: 0.0272 - sparse_categorical_accuracy: 0.9965 - val_loss: 2.2314 - val_sparse_categorical_accuracy: 0.6382\n",
            "Epoch 140/200\n",
            "718/718 [==============================] - 141s 197ms/step - loss: 0.0262 - sparse_categorical_accuracy: 0.9967 - val_loss: 2.2258 - val_sparse_categorical_accuracy: 0.6400\n",
            "Epoch 141/200\n",
            "718/718 [==============================] - 141s 197ms/step - loss: 0.0255 - sparse_categorical_accuracy: 0.9969 - val_loss: 2.2267 - val_sparse_categorical_accuracy: 0.6404\n",
            "Epoch 142/200\n",
            "718/718 [==============================] - 141s 197ms/step - loss: 0.0249 - sparse_categorical_accuracy: 0.9967 - val_loss: 2.2289 - val_sparse_categorical_accuracy: 0.6384\n",
            "Epoch 143/200\n",
            "718/718 [==============================] - 141s 196ms/step - loss: 0.0244 - sparse_categorical_accuracy: 0.9967 - val_loss: 2.2273 - val_sparse_categorical_accuracy: 0.6388\n",
            "Epoch 144/200\n",
            "718/718 [==============================] - 141s 197ms/step - loss: 0.0236 - sparse_categorical_accuracy: 0.9966 - val_loss: 2.2191 - val_sparse_categorical_accuracy: 0.6414\n",
            "Epoch 145/200\n",
            "718/718 [==============================] - 141s 196ms/step - loss: 0.0232 - sparse_categorical_accuracy: 0.9969 - val_loss: 2.2260 - val_sparse_categorical_accuracy: 0.6400\n",
            "Epoch 146/200\n",
            "718/718 [==============================] - 141s 196ms/step - loss: 0.0228 - sparse_categorical_accuracy: 0.9963 - val_loss: 2.2221 - val_sparse_categorical_accuracy: 0.6404\n",
            "Epoch 147/200\n",
            "718/718 [==============================] - 141s 197ms/step - loss: 0.0221 - sparse_categorical_accuracy: 0.9970 - val_loss: 2.2225 - val_sparse_categorical_accuracy: 0.6408\n",
            "Epoch 148/200\n",
            "718/718 [==============================] - 141s 197ms/step - loss: 0.0219 - sparse_categorical_accuracy: 0.9968 - val_loss: 2.2220 - val_sparse_categorical_accuracy: 0.6405\n",
            "Epoch 149/200\n",
            "718/718 [==============================] - 141s 196ms/step - loss: 0.0213 - sparse_categorical_accuracy: 0.9967 - val_loss: 2.2224 - val_sparse_categorical_accuracy: 0.6404\n",
            "Epoch 150/200\n",
            "718/718 [==============================] - 141s 196ms/step - loss: 0.0209 - sparse_categorical_accuracy: 0.9968 - val_loss: 2.2193 - val_sparse_categorical_accuracy: 0.6422\n",
            "Epoch 151/200\n",
            "718/718 [==============================] - 141s 196ms/step - loss: 0.0207 - sparse_categorical_accuracy: 0.9965 - val_loss: 2.2246 - val_sparse_categorical_accuracy: 0.6404\n",
            "Epoch 152/200\n",
            "718/718 [==============================] - 141s 196ms/step - loss: 0.0203 - sparse_categorical_accuracy: 0.9968 - val_loss: 2.2173 - val_sparse_categorical_accuracy: 0.6416\n",
            "Epoch 153/200\n",
            "718/718 [==============================] - 141s 196ms/step - loss: 0.0196 - sparse_categorical_accuracy: 0.9969 - val_loss: 2.2138 - val_sparse_categorical_accuracy: 0.6406\n",
            "Epoch 154/200\n",
            "718/718 [==============================] - 141s 196ms/step - loss: 0.0192 - sparse_categorical_accuracy: 0.9969 - val_loss: 2.2124 - val_sparse_categorical_accuracy: 0.6422\n",
            "Epoch 155/200\n",
            "718/718 [==============================] - 142s 198ms/step - loss: 0.0190 - sparse_categorical_accuracy: 0.9966 - val_loss: 2.2169 - val_sparse_categorical_accuracy: 0.6410\n",
            "Epoch 156/200\n",
            "718/718 [==============================] - 142s 198ms/step - loss: 0.0190 - sparse_categorical_accuracy: 0.9966 - val_loss: 2.2158 - val_sparse_categorical_accuracy: 0.6415\n",
            "Epoch 157/200\n",
            "718/718 [==============================] - 141s 197ms/step - loss: 0.0181 - sparse_categorical_accuracy: 0.9968 - val_loss: 2.2136 - val_sparse_categorical_accuracy: 0.6403\n",
            "Epoch 158/200\n",
            "718/718 [==============================] - 141s 196ms/step - loss: 0.0179 - sparse_categorical_accuracy: 0.9966 - val_loss: 2.2169 - val_sparse_categorical_accuracy: 0.6409\n",
            "Epoch 159/200\n",
            "718/718 [==============================] - 141s 196ms/step - loss: 0.0176 - sparse_categorical_accuracy: 0.9969 - val_loss: 2.2162 - val_sparse_categorical_accuracy: 0.6412\n",
            "Epoch 160/200\n",
            "718/718 [==============================] - 141s 196ms/step - loss: 0.0172 - sparse_categorical_accuracy: 0.9969 - val_loss: 2.2152 - val_sparse_categorical_accuracy: 0.6425\n",
            "Epoch 161/200\n",
            "718/718 [==============================] - 141s 197ms/step - loss: 0.0170 - sparse_categorical_accuracy: 0.9969 - val_loss: 2.2135 - val_sparse_categorical_accuracy: 0.6412\n",
            "Epoch 162/200\n",
            "718/718 [==============================] - 141s 197ms/step - loss: 0.0169 - sparse_categorical_accuracy: 0.9968 - val_loss: 2.2130 - val_sparse_categorical_accuracy: 0.6420\n",
            "Epoch 163/200\n",
            "718/718 [==============================] - 141s 197ms/step - loss: 0.0166 - sparse_categorical_accuracy: 0.9969 - val_loss: 2.2132 - val_sparse_categorical_accuracy: 0.6412\n",
            "Epoch 164/200\n",
            "718/718 [==============================] - 141s 196ms/step - loss: 0.0163 - sparse_categorical_accuracy: 0.9968 - val_loss: 2.2127 - val_sparse_categorical_accuracy: 0.6413\n",
            "Epoch 165/200\n",
            "718/718 [==============================] - 141s 196ms/step - loss: 0.0160 - sparse_categorical_accuracy: 0.9967 - val_loss: 2.2100 - val_sparse_categorical_accuracy: 0.6424\n",
            "Epoch 166/200\n",
            "718/718 [==============================] - 141s 197ms/step - loss: 0.0158 - sparse_categorical_accuracy: 0.9967 - val_loss: 2.2100 - val_sparse_categorical_accuracy: 0.6420\n",
            "Epoch 167/200\n",
            "718/718 [==============================] - 141s 196ms/step - loss: 0.0154 - sparse_categorical_accuracy: 0.9966 - val_loss: 2.2119 - val_sparse_categorical_accuracy: 0.6424\n",
            "Epoch 168/200\n",
            "718/718 [==============================] - 141s 197ms/step - loss: 0.0153 - sparse_categorical_accuracy: 0.9969 - val_loss: 2.2109 - val_sparse_categorical_accuracy: 0.6422\n",
            "Epoch 169/200\n",
            "718/718 [==============================] - 141s 197ms/step - loss: 0.0150 - sparse_categorical_accuracy: 0.9969 - val_loss: 2.2133 - val_sparse_categorical_accuracy: 0.6415\n",
            "Epoch 170/200\n",
            "718/718 [==============================] - 141s 197ms/step - loss: 0.0149 - sparse_categorical_accuracy: 0.9968 - val_loss: 2.2090 - val_sparse_categorical_accuracy: 0.6421\n",
            "Epoch 171/200\n",
            "718/718 [==============================] - 141s 196ms/step - loss: 0.0146 - sparse_categorical_accuracy: 0.9969 - val_loss: 2.2128 - val_sparse_categorical_accuracy: 0.6412\n",
            "Epoch 172/200\n",
            "718/718 [==============================] - 141s 197ms/step - loss: 0.0147 - sparse_categorical_accuracy: 0.9969 - val_loss: 2.2097 - val_sparse_categorical_accuracy: 0.6426\n",
            "Epoch 173/200\n",
            "718/718 [==============================] - 141s 197ms/step - loss: 0.0145 - sparse_categorical_accuracy: 0.9970 - val_loss: 2.2126 - val_sparse_categorical_accuracy: 0.6429\n",
            "Epoch 174/200\n",
            "718/718 [==============================] - 141s 196ms/step - loss: 0.0143 - sparse_categorical_accuracy: 0.9969 - val_loss: 2.2108 - val_sparse_categorical_accuracy: 0.6434\n",
            "Epoch 175/200\n",
            "718/718 [==============================] - 141s 196ms/step - loss: 0.0142 - sparse_categorical_accuracy: 0.9970 - val_loss: 2.2096 - val_sparse_categorical_accuracy: 0.6432\n",
            "Epoch 176/200\n",
            "718/718 [==============================] - 141s 196ms/step - loss: 0.0140 - sparse_categorical_accuracy: 0.9969 - val_loss: 2.2107 - val_sparse_categorical_accuracy: 0.6433\n",
            "Epoch 177/200\n",
            "718/718 [==============================] - 141s 197ms/step - loss: 0.0138 - sparse_categorical_accuracy: 0.9971 - val_loss: 2.2064 - val_sparse_categorical_accuracy: 0.6446\n",
            "Epoch 178/200\n",
            "718/718 [==============================] - 142s 197ms/step - loss: 0.0137 - sparse_categorical_accuracy: 0.9970 - val_loss: 2.2088 - val_sparse_categorical_accuracy: 0.6432\n",
            "Epoch 179/200\n",
            "718/718 [==============================] - 142s 197ms/step - loss: 0.0136 - sparse_categorical_accuracy: 0.9967 - val_loss: 2.2080 - val_sparse_categorical_accuracy: 0.6443\n",
            "Epoch 180/200\n",
            "718/718 [==============================] - 141s 197ms/step - loss: 0.0135 - sparse_categorical_accuracy: 0.9970 - val_loss: 2.2124 - val_sparse_categorical_accuracy: 0.6435\n",
            "Epoch 181/200\n",
            "718/718 [==============================] - 142s 197ms/step - loss: 0.0134 - sparse_categorical_accuracy: 0.9972 - val_loss: 2.2086 - val_sparse_categorical_accuracy: 0.6430\n",
            "Epoch 182/200\n",
            "718/718 [==============================] - 141s 196ms/step - loss: 0.0133 - sparse_categorical_accuracy: 0.9970 - val_loss: 2.2124 - val_sparse_categorical_accuracy: 0.6432\n",
            "Epoch 183/200\n",
            "718/718 [==============================] - 142s 197ms/step - loss: 0.0133 - sparse_categorical_accuracy: 0.9969 - val_loss: 2.2098 - val_sparse_categorical_accuracy: 0.6432\n",
            "Epoch 184/200\n",
            "718/718 [==============================] - 142s 198ms/step - loss: 0.0131 - sparse_categorical_accuracy: 0.9971 - val_loss: 2.2130 - val_sparse_categorical_accuracy: 0.6437\n",
            "Epoch 185/200\n",
            "718/718 [==============================] - 142s 198ms/step - loss: 0.0129 - sparse_categorical_accuracy: 0.9973 - val_loss: 2.2133 - val_sparse_categorical_accuracy: 0.6433\n",
            "Epoch 186/200\n",
            "718/718 [==============================] - 141s 196ms/step - loss: 0.0128 - sparse_categorical_accuracy: 0.9972 - val_loss: 2.2127 - val_sparse_categorical_accuracy: 0.6426\n",
            "Epoch 187/200\n",
            "718/718 [==============================] - 141s 196ms/step - loss: 0.0127 - sparse_categorical_accuracy: 0.9971 - val_loss: 2.2118 - val_sparse_categorical_accuracy: 0.6432\n",
            "Epoch 188/200\n",
            "718/718 [==============================] - 141s 196ms/step - loss: 0.0127 - sparse_categorical_accuracy: 0.9974 - val_loss: 2.2127 - val_sparse_categorical_accuracy: 0.6430\n",
            "Epoch 189/200\n",
            "718/718 [==============================] - 141s 196ms/step - loss: 0.0125 - sparse_categorical_accuracy: 0.9973 - val_loss: 2.2113 - val_sparse_categorical_accuracy: 0.6436\n",
            "Epoch 190/200\n",
            "718/718 [==============================] - 141s 196ms/step - loss: 0.0124 - sparse_categorical_accuracy: 0.9972 - val_loss: 2.2108 - val_sparse_categorical_accuracy: 0.6435\n",
            "Epoch 191/200\n",
            "718/718 [==============================] - 141s 196ms/step - loss: 0.0124 - sparse_categorical_accuracy: 0.9970 - val_loss: 2.2102 - val_sparse_categorical_accuracy: 0.6443\n",
            "Epoch 192/200\n",
            "718/718 [==============================] - 141s 196ms/step - loss: 0.0124 - sparse_categorical_accuracy: 0.9971 - val_loss: 2.2112 - val_sparse_categorical_accuracy: 0.6435\n",
            "Epoch 193/200\n",
            "718/718 [==============================] - 141s 196ms/step - loss: 0.0124 - sparse_categorical_accuracy: 0.9973 - val_loss: 2.2102 - val_sparse_categorical_accuracy: 0.6437\n",
            "Epoch 194/200\n",
            "718/718 [==============================] - 140s 196ms/step - loss: 0.0122 - sparse_categorical_accuracy: 0.9973 - val_loss: 2.2127 - val_sparse_categorical_accuracy: 0.6436\n",
            "Epoch 195/200\n",
            "718/718 [==============================] - 141s 196ms/step - loss: 0.0122 - sparse_categorical_accuracy: 0.9973 - val_loss: 2.2113 - val_sparse_categorical_accuracy: 0.6438\n",
            "Epoch 196/200\n",
            "718/718 [==============================] - 140s 195ms/step - loss: 0.0122 - sparse_categorical_accuracy: 0.9973 - val_loss: 2.2115 - val_sparse_categorical_accuracy: 0.6432\n",
            "Epoch 197/200\n",
            "718/718 [==============================] - 140s 195ms/step - loss: 0.0121 - sparse_categorical_accuracy: 0.9973 - val_loss: 2.2111 - val_sparse_categorical_accuracy: 0.6436\n",
            "Epoch 198/200\n",
            "718/718 [==============================] - 139s 193ms/step - loss: 0.0122 - sparse_categorical_accuracy: 0.9973 - val_loss: 2.2117 - val_sparse_categorical_accuracy: 0.6430\n",
            "Epoch 199/200\n",
            "718/718 [==============================] - 138s 193ms/step - loss: 0.0120 - sparse_categorical_accuracy: 0.9975 - val_loss: 2.2114 - val_sparse_categorical_accuracy: 0.6432\n",
            "Epoch 200/200\n",
            "718/718 [==============================] - 138s 193ms/step - loss: 0.0120 - sparse_categorical_accuracy: 0.9975 - val_loss: 2.2116 - val_sparse_categorical_accuracy: 0.6434\n"
          ],
          "name": "stdout"
        }
      ]
    },
    {
      "cell_type": "code",
      "metadata": {
        "id": "8HXEEiRW-L7S"
      },
      "source": [
        "saved_model_path = '/content/drive/MyDrive/shopee/bert_model/bert.h5'\n",
        "classifier_model.save_weights(saved_model_path)"
      ],
      "execution_count": null,
      "outputs": []
    },
    {
      "cell_type": "code",
      "metadata": {
        "colab": {
          "base_uri": "https://localhost:8080/",
          "height": 438
        },
        "id": "U-56aIchm5jq",
        "outputId": "3728fb14-e419-4647-d7aa-2d70ce21f9d5"
      },
      "source": [
        "history_dict = history.history\n",
        "print(history_dict.keys())\n",
        "\n",
        "acc = history_dict['sparse_categorical_accuracy']\n",
        "val_acc = history_dict['val_sparse_categorical_accuracy']\n",
        "loss = history_dict['loss']\n",
        "val_loss = history_dict['val_loss']\n",
        "\n",
        "epochs = range(1, len(acc) + 1)\n",
        "fig = plt.figure(figsize=(10, 6))\n",
        "fig.tight_layout()\n",
        "\n",
        "plt.subplot(2, 1, 1)\n",
        "# \"bo\" is for \"blue dot\"\n",
        "plt.plot(epochs, loss, 'r', label='Training loss')\n",
        "# b is for \"solid blue line\"\n",
        "plt.plot(epochs, val_loss, 'b', label='Validation loss')\n",
        "plt.title('Training and validation loss')\n",
        "# plt.xlabel('Epochs')\n",
        "plt.ylabel('Loss')\n",
        "plt.legend()\n",
        "\n",
        "plt.subplot(2, 1, 2)\n",
        "plt.plot(epochs, acc, 'r', label='Training acc')\n",
        "plt.plot(epochs, val_acc, 'b', label='Validation acc')\n",
        "plt.title('Training and validation accuracy')\n",
        "plt.xlabel('Epochs')\n",
        "plt.ylabel('Accuracy')\n",
        "plt.legend(loc='lower right')"
      ],
      "execution_count": null,
      "outputs": [
        {
          "output_type": "stream",
          "text": [
            "dict_keys(['loss', 'sparse_categorical_accuracy', 'val_loss', 'val_sparse_categorical_accuracy'])\n"
          ],
          "name": "stdout"
        },
        {
          "output_type": "execute_result",
          "data": {
            "text/plain": [
              "<matplotlib.legend.Legend at 0x7f84a56b1610>"
            ]
          },
          "metadata": {
            "tags": []
          },
          "execution_count": 81
        },
        {
          "output_type": "display_data",
          "data": {
            "image/png": "[encoded data removed]",
            "text/plain": [
              "<Figure size 720x432 with 2 Axes>"
            ]
          },
          "metadata": {
            "tags": [],
            "needs_background": "light"
          }
        }
      ]
    },
    {
      "cell_type": "code",
      "metadata": {
        "id": "Xpskq7hN0ute"
      },
      "source": [
        "def f1_score(y_true, y_pred):\n",
        "  y_true = y_true.apply(lambda x: set(x.split()))\n",
        "  y_pred = y_pred.apply(lambda x: set(x.split()))\n",
        "  intersection = np.array([len(x[0] & x[1]) for x in zip(y_true, y_pred)])\n",
        "  len_y_pred = y_pred.apply(lambda x: len(x)).values\n",
        "  len_y_true = y_true.apply(lambda x: len(x)).values\n",
        "  f1 = 2 * intersection / (len_y_pred + len_y_true)\n",
        "  return f1"
      ],
      "execution_count": null,
      "outputs": []
    },
    {
      "cell_type": "code",
      "metadata": {
        "colab": {
          "base_uri": "https://localhost:8080/"
        },
        "id": "rVZQ9XQG9QTv",
        "outputId": "6b253e0f-4d0b-4187-fce8-eeeb2e7de006"
      },
      "source": [
        "reconstructed_model = build_classifier_model()\n",
        "reconstructed_model.load_weights(saved_model_path)\n",
        "# 重新取输入和输出 选取embedding层作为输出\n",
        "reconstructed_model = tf.keras.models.Model(inputs = reconstructed_model.input, \n",
        "                        outputs = reconstructed_model.layers[-2].output) \n",
        "reconstructed_model.summary()"
      ],
      "execution_count": null,
      "outputs": [
        {
          "output_type": "stream",
          "text": [
            "Model: \"model_5\"\n",
            "__________________________________________________________________________________________________\n",
            "Layer (type)                    Output Shape         Param #     Connected to                     \n",
            "==================================================================================================\n",
            "text (InputLayer)               [(None,)]            0                                            \n",
            "__________________________________________________________________________________________________\n",
            "preprocessing (KerasLayer)      {'input_word_ids': ( 0           text[0][0]                       \n",
            "__________________________________________________________________________________________________\n",
            "BERT_encoder (KerasLayer)       {'encoder_outputs':  28763649    preprocessing[0][0]              \n",
            "                                                                 preprocessing[0][1]              \n",
            "                                                                 preprocessing[0][2]              \n",
            "__________________________________________________________________________________________________\n",
            "dropout_3 (Dropout)             (None, 512)          0           BERT_encoder[0][5]               \n",
            "==================================================================================================\n",
            "Total params: 28,763,649\n",
            "Trainable params: 28,763,648\n",
            "Non-trainable params: 1\n",
            "__________________________________________________________________________________________________\n"
          ],
          "name": "stdout"
        }
      ]
    },
    {
      "cell_type": "code",
      "metadata": {
        "id": "yBp5JyDZ9EM-",
        "colab": {
          "base_uri": "https://localhost:8080/"
        },
        "outputId": "15844c8b-4ad0-4b79-99c3-f1793b18ea29"
      },
      "source": [
        "embeds = []\n",
        "for text_batch, labels_batch in tqdm(val_dataset):\n",
        "  embeds.append(reconstructed_model.predict(text_batch))"
      ],
      "execution_count": null,
      "outputs": [
        {
          "output_type": "stream",
          "text": [
            "100%|██████████| 354/354 [00:44<00:00,  8.04it/s]\n"
          ],
          "name": "stderr"
        }
      ]
    },
    {
      "cell_type": "code",
      "metadata": {
        "id": "QkqVPU08AYps"
      },
      "source": [
        "text_embeddings = np.concatenate(embeds)"
      ],
      "execution_count": null,
      "outputs": []
    },
    {
      "cell_type": "code",
      "metadata": {
        "colab": {
          "base_uri": "https://localhost:8080/"
        },
        "id": "I-CMTPkiGAqX",
        "outputId": "e9a94c26-6ab2-4c97-9a14-1497aa65c045"
      },
      "source": [
        "text_embeddings.shape"
      ],
      "execution_count": null,
      "outputs": [
        {
          "output_type": "execute_result",
          "data": {
            "text/plain": [
              "(11303, 512)"
            ]
          },
          "metadata": {
            "tags": []
          },
          "execution_count": 86
        }
      ]
    },
    {
      "cell_type": "code",
      "metadata": {
        "id": "cLRuTjMPAXiK"
      },
      "source": [
        "def get_neighbors(df, embeddings, KNN=50, threshold = 4.5):\n",
        "\n",
        "    model = NearestNeighbors(n_neighbors = KNN)\n",
        "    model.fit(embeddings)\n",
        "    distances, indices = model.kneighbors(embeddings)\n",
        "    \n",
        "    predictions = []\n",
        "    for k in tqdm(range(embeddings.shape[0])):\n",
        "        idx = np.where(distances[k,] < threshold)[0]\n",
        "        ids = indices[k,idx]\n",
        "        posting_ids = df['posting_id'].iloc[ids].values\n",
        "        predictions.append(posting_ids)\n",
        "        \n",
        "    del model, distances, indices\n",
        "    gc.collect()\n",
        "    return df, predictions"
      ],
      "execution_count": null,
      "outputs": []
    },
    {
      "cell_type": "code",
      "metadata": {
        "colab": {
          "base_uri": "https://localhost:8080/"
        },
        "id": "RFsduyYa3Qdu",
        "outputId": "628fd54c-4f7b-465d-cdf2-3fa664aafde9"
      },
      "source": [
        "df_test_pred, text_predictions = get_neighbors(x_val, text_embeddings, KNN = 50, threshold = 2.0)"
      ],
      "execution_count": null,
      "outputs": [
        {
          "output_type": "stream",
          "text": [
            "100%|██████████| 11303/11303 [00:01<00:00, 7442.26it/s]\n"
          ],
          "name": "stderr"
        }
      ]
    },
    {
      "cell_type": "code",
      "metadata": {
        "id": "bKRgpeO13Skn"
      },
      "source": [
        "def combine_predictions(row):\n",
        "  # x = np.concatenate([row['image_predictions'], row['text_predictions']])\n",
        "  x = row['text_predictions']\n",
        "  return ' '.join(np.unique(x))"
      ],
      "execution_count": null,
      "outputs": []
    },
    {
      "cell_type": "code",
      "metadata": {
        "id": "XiwBfvc43SN8"
      },
      "source": [
        "#df_test_pred['image_predictions'] = image_predictions\n",
        "df_test_pred['text_predictions'] = text_predictions\n",
        "df_test_pred['matches'] = df_test_pred.apply(combine_predictions, axis=1)\n",
        "df_test_pred[['posting_id', 'matches']].to_csv('/content/drive/MyDrive/shopee/submission.csv', index=False)"
      ],
      "execution_count": null,
      "outputs": []
    },
    {
      "cell_type": "code",
      "metadata": {
        "colab": {
          "base_uri": "https://localhost:8080/",
          "height": 203
        },
        "id": "GkWA-oZuNrIV",
        "outputId": "693c16c8-c353-4241-cea1-6f68c1ffe0df"
      },
      "source": [
        "df_test_pred.head()"
      ],
      "execution_count": null,
      "outputs": [
        {
          "output_type": "execute_result",
          "data": {
            "text/html": [
              "<div>\n",
              "<style scoped>\n",
              "    .dataframe tbody tr th:only-of-type {\n",
              "        vertical-align: middle;\n",
              "    }\n",
              "\n",
              "    .dataframe tbody tr th {\n",
              "        vertical-align: top;\n",
              "    }\n",
              "\n",
              "    .dataframe thead th {\n",
              "        text-align: right;\n",
              "    }\n",
              "</style>\n",
              "<table border=\"1\" class=\"dataframe\">\n",
              "  <thead>\n",
              "    <tr style=\"text-align: right;\">\n",
              "      <th></th>\n",
              "      <th>title</th>\n",
              "      <th>posting_id</th>\n",
              "      <th>text_predictions</th>\n",
              "      <th>matches</th>\n",
              "    </tr>\n",
              "  </thead>\n",
              "  <tbody>\n",
              "    <tr>\n",
              "      <th>15319</th>\n",
              "      <td>LAMPU LED PHILIPS 12 WATT 12WATT 12W 12 W KEMA...</td>\n",
              "      <td>train_2332310353</td>\n",
              "      <td>[train_2332310353]</td>\n",
              "      <td>train_2332310353</td>\n",
              "    </tr>\n",
              "    <tr>\n",
              "      <th>13540</th>\n",
              "      <td>OMGENDUT Xylophone Mainan</td>\n",
              "      <td>train_290486421</td>\n",
              "      <td>[train_290486421]</td>\n",
              "      <td>train_290486421</td>\n",
              "    </tr>\n",
              "    <tr>\n",
              "      <th>28794</th>\n",
              "      <td>Garnier Micellar Water Bi-Phase Skin Care - 40...</td>\n",
              "      <td>train_658477378</td>\n",
              "      <td>[train_658477378]</td>\n",
              "      <td>train_658477378</td>\n",
              "    </tr>\n",
              "    <tr>\n",
              "      <th>17937</th>\n",
              "      <td>RAK GANTUNG SERBAGUNA / Storage Decorative Rac...</td>\n",
              "      <td>train_4130879443</td>\n",
              "      <td>[train_4130879443]</td>\n",
              "      <td>train_4130879443</td>\n",
              "    </tr>\n",
              "    <tr>\n",
              "      <th>8639</th>\n",
              "      <td>\\xe3\\x80\\x90 COD \\xe3\\x80\\x91 Botol Spray / Fl...</td>\n",
              "      <td>train_1217495101</td>\n",
              "      <td>[train_1217495101]</td>\n",
              "      <td>train_1217495101</td>\n",
              "    </tr>\n",
              "  </tbody>\n",
              "</table>\n",
              "</div>"
            ],
            "text/plain": [
              "                                                   title  ...           matches\n",
              "15319  LAMPU LED PHILIPS 12 WATT 12WATT 12W 12 W KEMA...  ...  train_2332310353\n",
              "13540                          OMGENDUT Xylophone Mainan  ...   train_290486421\n",
              "28794  Garnier Micellar Water Bi-Phase Skin Care - 40...  ...   train_658477378\n",
              "17937  RAK GANTUNG SERBAGUNA / Storage Decorative Rac...  ...  train_4130879443\n",
              "8639   \\xe3\\x80\\x90 COD \\xe3\\x80\\x91 Botol Spray / Fl...  ...  train_1217495101\n",
              "\n",
              "[5 rows x 4 columns]"
            ]
          },
          "metadata": {
            "tags": []
          },
          "execution_count": 91
        }
      ]
    },
    {
      "cell_type": "code",
      "metadata": {
        "id": "-mGcH_8ZNreu"
      },
      "source": [
        "df_test_pred = pd.read_csv('/content/drive/MyDrive/shopee/submission.csv')"
      ],
      "execution_count": null,
      "outputs": []
    },
    {
      "cell_type": "code",
      "metadata": {
        "colab": {
          "base_uri": "https://localhost:8080/",
          "height": 203
        },
        "id": "dNBxqg4HNrF0",
        "outputId": "b334284f-5d7a-4791-929e-1aea72823e55"
      },
      "source": [
        "df_test_pred.head()"
      ],
      "execution_count": null,
      "outputs": [
        {
          "output_type": "execute_result",
          "data": {
            "text/html": [
              "<div>\n",
              "<style scoped>\n",
              "    .dataframe tbody tr th:only-of-type {\n",
              "        vertical-align: middle;\n",
              "    }\n",
              "\n",
              "    .dataframe tbody tr th {\n",
              "        vertical-align: top;\n",
              "    }\n",
              "\n",
              "    .dataframe thead th {\n",
              "        text-align: right;\n",
              "    }\n",
              "</style>\n",
              "<table border=\"1\" class=\"dataframe\">\n",
              "  <thead>\n",
              "    <tr style=\"text-align: right;\">\n",
              "      <th></th>\n",
              "      <th>posting_id</th>\n",
              "      <th>matches</th>\n",
              "    </tr>\n",
              "  </thead>\n",
              "  <tbody>\n",
              "    <tr>\n",
              "      <th>0</th>\n",
              "      <td>train_2332310353</td>\n",
              "      <td>train_2332310353</td>\n",
              "    </tr>\n",
              "    <tr>\n",
              "      <th>1</th>\n",
              "      <td>train_290486421</td>\n",
              "      <td>train_290486421</td>\n",
              "    </tr>\n",
              "    <tr>\n",
              "      <th>2</th>\n",
              "      <td>train_658477378</td>\n",
              "      <td>train_658477378</td>\n",
              "    </tr>\n",
              "    <tr>\n",
              "      <th>3</th>\n",
              "      <td>train_4130879443</td>\n",
              "      <td>train_4130879443</td>\n",
              "    </tr>\n",
              "    <tr>\n",
              "      <th>4</th>\n",
              "      <td>train_1217495101</td>\n",
              "      <td>train_1217495101</td>\n",
              "    </tr>\n",
              "  </tbody>\n",
              "</table>\n",
              "</div>"
            ],
            "text/plain": [
              "         posting_id           matches\n",
              "0  train_2332310353  train_2332310353\n",
              "1   train_290486421   train_290486421\n",
              "2   train_658477378   train_658477378\n",
              "3  train_4130879443  train_4130879443\n",
              "4  train_1217495101  train_1217495101"
            ]
          },
          "metadata": {
            "tags": []
          },
          "execution_count": 93
        }
      ]
    },
    {
      "cell_type": "code",
      "metadata": {
        "id": "iILsubhONygz"
      },
      "source": [
        "df_test_pred['f1'] = f1_score(df_test_pred['posting_id'], df_test_pred['matches'])"
      ],
      "execution_count": null,
      "outputs": []
    },
    {
      "cell_type": "code",
      "metadata": {
        "colab": {
          "base_uri": "https://localhost:8080/"
        },
        "id": "-0brXBHlNzFt",
        "outputId": "2423ec4e-8fb1-4e7f-c4d7-1db8fbed65ca"
      },
      "source": [
        "df_test_pred['f1'].mean()"
      ],
      "execution_count": null,
      "outputs": [
        {
          "output_type": "execute_result",
          "data": {
            "text/plain": [
              "0.9936843568711197"
            ]
          },
          "metadata": {
            "tags": []
          },
          "execution_count": 95
        }
      ]
    },
    {
      "cell_type": "code",
      "metadata": {
        "id": "CptLNlSrOY3t"
      },
      "source": [
        ""
      ],
      "execution_count": null,
      "outputs": []
    }
  ]
}